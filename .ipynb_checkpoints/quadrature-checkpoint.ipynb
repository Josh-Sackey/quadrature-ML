{
 "cells": [
  {
   "cell_type": "markdown",
   "id": "0ca4d81f",
   "metadata": {},
   "source": [
    "# Adaptive numerical Quadrature\n",
    "We will demonstrate how to train an artificial neural network (NN) to intelligently provide step sizes (subinterval lengths) for numerical quadrature tasks. \n",
    "In this example, the NN will be trained to provide optimal step sizes to integrate functions from the probability space\n",
    "$$ X = \\left\\{f : f(t) = \\sin(\\omega t + \\varphi) \\exp(-d t) ~\\Big|~ \\omega, \\phi, d \\in \\mathbb{R} \\right\\} $$ with $\\omega \\sim \\text{Unif}[\\pi, 2\\pi]$, $\\varphi \\sim \\text{Unif}[0,2\\pi]$, $d\\sim \\text{Unif}[0,0.1]$, using Simpson's rule. Finally, we show how to optimize the quadrature weights of Simpson's rule such that, together with the learned time-stepper, performance is enhanced even further.\n",
    "\n",
    "Let us store some information about this task in the following variables:"
   ]
  },
  {
   "cell_type": "code",
   "execution_count": 1,
   "id": "09ff4cbc",
   "metadata": {},
   "outputs": [
    {
     "name": "stdout",
     "output_type": "stream",
     "text": [
      "step sizes: [0.2  0.23 0.26 0.29 0.32 0.35 0.38 0.41 0.44 0.47 0.5 ]\n"
     ]
    }
   ],
   "source": [
    "import numpy as np\n",
    "from adaptive.integrator import Simpson\n",
    "\n",
    "integrator = Simpson()\n",
    "\n",
    "step_sizes = np.linspace(0.2, 0.5, 11)  # the NN will choose from these step sizes\n",
    "print(f\"step sizes: {step_sizes}\")\n",
    "tol = 0.0005  # target integration error tolerance\n",
    "nodes_per_step = 3  # Simpson's rule uses 3 nodes per integration step\n",
    "dim_state = 4  # a state consists of one step size and 3 function evaluations \n",
    "t0 = 0  # start point\n",
    "t1 = 20  # end point\n",
    "\n",
    "dim_action = len(step_sizes)  # the dimension of the action space of the NN\n",
    "memory = 0  # how many integration steps the predictor can look back"
   ]
  },
  {
   "cell_type": "markdown",
   "id": "9d384f8d",
   "metadata": {},
   "source": [
    " It is a good idea to scale the inputs of the NN to order $\\approx 10^{-1}$ using a scikit-learn StandardScaler. For this problem class, the states are already of appropriate order, so we will use identity as a scaler."
   ]
  },
  {
   "cell_type": "code",
   "execution_count": 2,
   "id": "c730e9c0",
   "metadata": {},
   "outputs": [],
   "source": [
    "from sklearn.preprocessing import StandardScaler\n",
    "\n",
    "scaler = StandardScaler()\n",
    "scaler.scale_ = np.ones(dim_state)\n",
    "scaler.mean_ = np.zeros(dim_state)"
   ]
  },
  {
   "cell_type": "markdown",
   "id": "d48f78fa",
   "metadata": {},
   "source": [
    "Now we can initialize the NN. It is encapsuled by the Predictor object, which handles the interaction with the NN. The NN itself is created using tensorflow."
   ]
  },
  {
   "cell_type": "code",
   "execution_count": 3,
   "id": "92178a92",
   "metadata": {},
   "outputs": [],
   "source": [
    "from adaptive.predictor import PredictorQ\n",
    "from adaptive.build_models import build_value_model\n",
    "\n",
    "predictor = PredictorQ(step_sizes=step_sizes,\n",
    "                       model=build_value_model(dim_state=dim_state, dim_action=dim_action, memory=memory),\n",
    "                       scaler=scaler)"
   ]
  },
  {
   "cell_type": "markdown",
   "id": "26ae893a",
   "metadata": {},
   "source": [
    "During the training process, we have to reward or penalize the NN for its step choices. We choose a reward function of the following form: if the integration error is below the tolerance, reward the NN with a value scaling with the chosen time step, i.e., larger time steps yield larger rewards. If the integration error is larger than the tolerance, penalize the NN with a value scaling with the error, i.e., bigger errors yield more negative rewards. Here we use the `RewardLog10` reward function, which has a logarithmic scaling for both positive and negative rewards."
   ]
  },
  {
   "cell_type": "code",
   "execution_count": 4,
   "id": "edfa505e",
   "metadata": {},
   "outputs": [
    {
     "name": "stdout",
     "output_type": "stream",
     "text": [
      "positive rewards (error is smaller than tol=0.0005):\n",
      "error, step size, reward\n",
      "0.0001 0.2 0.1\n",
      "0.0001 0.35 1.26\n",
      "0.0001 0.5 2.0\n",
      "\n",
      "negative rewards (error is larger than tol=0.0005):\n",
      "error, step size, reward\n",
      "0.00075 0.2 -0.585\n",
      "0.001 0.2 -1.0\n",
      "0.0015 0.2 -1.585\n"
     ]
    }
   ],
   "source": [
    "from adaptive.reward_functions import RewardLog10\n",
    "\n",
    "step_size_range = (step_sizes[0], step_sizes[-1])  # range of expected step sizes\n",
    "reward_range = (0.1, 2)  # range of positive rewards\n",
    "\n",
    "reward_fun = RewardLog10(error_tol=tol, step_size_range=step_size_range, reward_range=reward_range)\n",
    "\n",
    "# print some example rewards\n",
    "errors = [0.2 * tol, 0.2 * tol, 0.2 * tol]\n",
    "hs = [step_sizes[0], step_sizes[5], step_sizes[-1]]\n",
    "print(f\"positive rewards (error is smaller than tol={tol}):\")\n",
    "print(\"error, step size, reward\")\n",
    "for er, h in zip(errors, hs):\n",
    "    print(er, h, round(reward_fun(er, h), 3))\n",
    "print()\n",
    "errors = [1.5 * tol, 2 * tol, 3 * tol]\n",
    "hs = [step_sizes[0], step_sizes[0], step_sizes[0]]\n",
    "print(f\"negative rewards (error is larger than tol={tol}):\")\n",
    "print(\"error, step size, reward\")\n",
    "for er, h in zip(errors, hs):\n",
    "    print(er, h, round(reward_fun(er, h), 3))"
   ]
  },
  {
   "cell_type": "markdown",
   "id": "89e1072d",
   "metadata": {},
   "source": [
    "In order to train the NN, we need to repeatedly sample and integrate functions from the given class. The `IntegrationEnv` class handles the integration process. The most important method is `IntegrationEnv.iterate`, which takes a step size as an argument, integrates the function with the provided step size for one step, and provides the next state as an output. Moreover, the `IntegrationEnv` class keeps track of the integration error and calculates the rewards for the step size choices."
   ]
  },
  {
   "cell_type": "code",
   "execution_count": 5,
   "id": "468ab2c2",
   "metadata": {},
   "outputs": [],
   "source": [
    "from adaptive.environments import IntegrationEnv\n",
    "from functions import Sinus, Sinusoid\n",
    "\n",
    "env = IntegrationEnv(fun=Sinusoid(), max_iterations=10000, initial_step_size=step_sizes[0],\n",
    "                         error_tol=tol, nodes_per_integ=nodes_per_step, memory=memory,\n",
    "                         x0=t0, max_dist=t1 - t0, reward_fun=reward_fun)"
   ]
  },
  {
   "cell_type": "markdown",
   "id": "3df61f5c",
   "metadata": {},
   "source": [
    "During the integration process, we will store a few past states and desired NN outputs in an `Experience` object. If a certain number of experiences is stored or the integration is finished, we use the stored data (batch) to train the NN."
   ]
  },
  {
   "cell_type": "code",
   "execution_count": 6,
   "id": "0c25bc0a",
   "metadata": {},
   "outputs": [],
   "source": [
    "from adaptive.experience import Experience\n",
    "\n",
    "experience = Experience(batch_size=32)"
   ]
  },
  {
   "cell_type": "markdown",
   "id": "3729fd38",
   "metadata": {},
   "source": [
    "During training it is important that the NN explores a sufficiently large part of the action space in order to find optimal step sizes for a given input. We will use the following function to randomly choose actions given the NN's output:"
   ]
  },
  {
   "cell_type": "code",
   "execution_count": 7,
   "id": "005b3fd0",
   "metadata": {},
   "outputs": [],
   "source": [
    "def choose_action(actions, eps, dim_action):\n",
    "    \"\"\"\n",
    "    With probability 0.5*eps choose the action one above the favored action and with probability 0.5*eps the action\n",
    "    below the favored. Otherwise choose the favored action.\n",
    "\n",
    "    Parameters\n",
    "    ----------\n",
    "    actions : np.ndarray\n",
    "    eps : float\n",
    "    dim_action : int\n",
    "\n",
    "    Returns\n",
    "    -------\n",
    "    int\n",
    "    \"\"\"\n",
    "    favored = np.argmax(actions)\n",
    "    if np.random.sample() < 0.5 * eps:\n",
    "        return min(favored + 1, dim_action - 1)\n",
    "    elif np.random.sample() < eps:\n",
    "        return max(favored - 1, 0)\n",
    "    else:\n",
    "        return favored"
   ]
  },
  {
   "cell_type": "markdown",
   "id": "0741ba9d",
   "metadata": {},
   "source": [
    "Now we are able to train the NN. The following training loop illustrates the training process for a few episodes. However, we will load a fully trained NN afterwards, so that you do not have to do the training yourself."
   ]
  },
  {
   "cell_type": "code",
   "execution_count": 8,
   "id": "2f8652d0",
   "metadata": {},
   "outputs": [
    {
     "name": "stdout",
     "output_type": "stream",
     "text": [
      "episode: 0\n",
      "episode: 1\n",
      "episode: 2\n",
      "episode: 3\n",
      "episode: 4\n"
     ]
    }
   ],
   "source": [
    "gamma = 0  # discount factor for future rewards\n",
    "\n",
    "for episode in range(5):\n",
    "    state = env.reset(integrator)\n",
    "    done = False\n",
    "    eps = 0.66\n",
    "    \n",
    "    \n",
    "    print('episode: {}'.format(episode))\n",
    "\n",
    "    while not done:\n",
    "        # get action from actor\n",
    "        actions = predictor.get_actions(state)  # Q-value of each step size\n",
    "        action = choose_action(actions, eps, dim_action)  # randomize step size\n",
    "        step_size = predictor.action_to_stepsize(action)\n",
    "\n",
    "        # execute action\n",
    "        next_state, reward, done, _ = env.iterate(step_size, integrator)\n",
    "\n",
    "        # find target values (more correct Q-values) for NN output\n",
    "        action_next_state = predictor.get_actions(next_state)\n",
    "        target = reward + gamma * np.max(action_next_state)\n",
    "        target_actions = actions.squeeze()\n",
    "        target_actions[action] = target\n",
    "        # append target values to experience (batch)\n",
    "        experience.append(state=state[0], target=target_actions)\n",
    "        \n",
    "        # train the NN\n",
    "        if experience.is_full() or done:\n",
    "            # print([len(e[0]) for e in experience.current])\n",
    "            states, targets = experience.get_samples()\n",
    "            loss_predictor = predictor.train_on_batch(states, targets)\n",
    "            experience.reset()\n",
    "\n",
    "        state = next_state.copy()\n",
    "\n",
    "# uncomment if you want to train the NN yourself and save the weights\n",
    "predictor.model.save_weights('predictor')"
   ]
  },
  {
   "cell_type": "code",
   "execution_count": 9,
   "id": "f64b18b9",
   "metadata": {},
   "outputs": [],
   "source": [
    "# load an already trained NN\n",
    "predictor.model = build_value_model(dim_state=dim_state, dim_action=dim_action, memory=memory,\n",
    "                                    filename='adaptive/model_quad/sinusoid/predictor')"
   ]
  },
  {
   "cell_type": "markdown",
   "id": "120a8268",
   "metadata": {},
   "source": [
    "Before we begin to evaluate the performance of the step predictor, let us plot an integration of a sample function. (Repeat execution of next cell to sample different functions.)"
   ]
  },
  {
   "cell_type": "code",
   "execution_count": 10,
   "id": "47471c99",
   "metadata": {},
   "outputs": [
    {
     "data": {
      "image/png": "[encoded data removed]",
      "text/plain": [
       "<Figure size 576x576 with 3 Axes>"
      ]
     },
     "metadata": {
      "needs_background": "light"
     },
     "output_type": "display_data"
    }
   ],
   "source": [
    "from adaptive.comparison import integrate_env\n",
    "\n",
    "env.reset(integrator)\n",
    "_, evals, _, errors = integrate_env(predictor, integrator, env, x0=t0, x1=t1)\n",
    "\n",
    "# plot the time-stepping\n",
    "from adaptive.plots import plot_trajectory_quad\n",
    "fig, ax = plot_trajectory_quad(nodes=env.nodes,\n",
    "                                f=env.fun,\n",
    "                                errors=env.errors,\n",
    "                                deltas=env.deltas,\n",
    "                                error_tolerance=env.error_tol,\n",
    "                                figsize=(8, 8),\n",
    "                                linewidth=1.5,\n",
    "                                axislabelsize=15,\n",
    "                                ticklabelsize=10)"
   ]
  },
  {
   "cell_type": "markdown",
   "id": "bd6270a7",
   "metadata": {},
   "source": [
    "Now we will compare the performance of our NN step size predictor to the equidistant Simpson's rule. In order to approximate the average performance of the NN, we have to sample the function space thoroughly, which can take a minute or two. (If the execution of the next block takes a lot of time on your machine, you can reduce `num_samples`.)"
   ]
  },
  {
   "cell_type": "code",
   "execution_count": 11,
   "id": "cf680e48",
   "metadata": {},
   "outputs": [
    {
     "data": {
      "image/png": "[encoded data removed]",
      "text/plain": [
       "<Figure size 432x288 with 1 Axes>"
      ]
     },
     "metadata": {
      "needs_background": "light"
     },
     "output_type": "display_data"
    }
   ],
   "source": [
    "num_samples = 300  # number of functions to sample from the class\n",
    "\n",
    "# performance NN\n",
    "errors = []\n",
    "evals = []\n",
    "for i in range(num_samples):\n",
    "    env.reset(integrator)\n",
    "    _, _, _, err = integrate_env(predictor, integrator, env, t0, t1)\n",
    "    errors.append(np.mean(err))\n",
    "    evals.append((len(env.nodes) - 1) * 2 + 1)\n",
    "\n",
    "perf_model = np.array([np.mean(errors), np.mean(evals)])\n",
    "\n",
    "# performance equidistant\n",
    "from adaptive.predictor import PredictorConst  # predictor that always chooses step size h (equidistant)\n",
    "step_s = np.linspace(0.25, 0.35, 4)  # step sizes for equidistant Simpson's rule\n",
    "perf_eq = []\n",
    "\n",
    "for h in step_s:\n",
    "    predictor_const = PredictorConst(h)  \n",
    "    errors = []\n",
    "    evals = []\n",
    "    for _ in range(num_samples):\n",
    "        env.reset(integrator)\n",
    "        _, _, _, err = integrate_env(predictor_const, integrator, env, t0, t1)\n",
    "        errors.append(np.mean(err))\n",
    "        evals.append((len(env.nodes) - 1) * 2 + 1)\n",
    "        \n",
    "    perf_eq.append([np.mean(errors), np.mean(evals)])\n",
    "perf_eq = np.array(perf_eq)\n",
    "\n",
    "# plot results\n",
    "from matplotlib import pyplot as plt\n",
    "plt.loglog(perf_model[0], perf_model[1], 'rv', label='model')\n",
    "plt.loglog(perf_eq[:, 0], perf_eq[:, 1], 'bx-', label='equidistant')\n",
    "plt.legend()\n",
    "plt.xlabel('error per subinterval')\n",
    "plt.ylabel('number of function evals')\n",
    "plt.grid(which='both')\n",
    "plt.tight_layout()\n",
    "plt.show()\n"
   ]
  },
  {
   "cell_type": "markdown",
   "id": "38c3cbfb",
   "metadata": {},
   "source": [
    "A quadrature rule is a weighted sum of function evaluation at given nodes. Rather than continuing using Simpson's rule, we optimize the weights of a general quadrature rule with 3 equidistant nodes for the given problem class such that the new quadrature rule combined with our NN time-stepper behaves optimally.\n",
    "For this, we acquire training data by sampling and integrating functions from the class using the NN adaptive time stepper. Then we use a scikit-learn `LinearRegression` to optimize the weights for each of the step sizes in `step_sizes`. If the data acquisition takes too long on your machine, you can reduce `num_episodes`, but be aware that this may result in worse weights."
   ]
  },
  {
   "cell_type": "code",
   "execution_count": 12,
   "id": "8d64c784",
   "metadata": {},
   "outputs": [],
   "source": [
    "# acquire training data\n",
    "num_episodes = 100  # number of functions to sample and integrate\n",
    "\n",
    "num_step_sizes = len(step_sizes)\n",
    "states = [[] for _ in range(num_step_sizes)]  # states[i] is a list of states with the i_th step_size\n",
    "integrals = [[] for _ in range(num_step_sizes)]  # integrals[i] is a list with the associated correct integrals\n",
    "\n",
    "for episode in range(num_episodes):\n",
    "    state = env.reset(integrator)\n",
    "    done = False\n",
    "\n",
    "    while not done:\n",
    "        step_size = predictor(state)\n",
    "        next_state, reward, done, info = env.iterate(step_size, integrator)\n",
    "\n",
    "        f_evals = next_state[0][1:]\n",
    "        step_size_idx = np.argwhere(np.isclose(predictor.step_sizes, step_size))[0, 0]\n",
    "        states[step_size_idx].append(f_evals)\n",
    "        integrals[step_size_idx].append(info[\"correct_integral\"])\n",
    "        state = next_state.copy()"
   ]
  },
  {
   "cell_type": "code",
   "execution_count": 13,
   "id": "9fb41148",
   "metadata": {},
   "outputs": [
    {
     "name": "stdout",
     "output_type": "stream",
     "text": [
      "0 samples for step_size 0.2\n",
      "Not enough samples, default to Simpson's rule.\n",
      "weights: [0.03333333 0.13333333 0.03333333]\n",
      "intercept: [0.]\n",
      "\n",
      "0 samples for step_size 0.23\n",
      "Not enough samples, default to Simpson's rule.\n",
      "weights: [0.03833333 0.15333333 0.03833333]\n",
      "intercept: [0.]\n",
      "\n",
      "262 samples for step_size 0.26\n",
      "weights: [0.0448838  0.17061188 0.04487667]\n",
      "intercept: -8.859124410454111e-08\n",
      "\n",
      "2380 samples for step_size 0.29\n",
      "weights: [0.05015994 0.19013395 0.05014438]\n",
      "intercept: -1.1532668645012484e-06\n",
      "\n",
      "0 samples for step_size 0.32\n",
      "Not enough samples, default to Simpson's rule.\n",
      "weights: [0.05333333 0.21333333 0.05333333]\n",
      "intercept: [0.]\n",
      "\n",
      "2617 samples for step_size 0.35\n",
      "weights: [0.06136085 0.22824724 0.06135244]\n",
      "intercept: -3.0263771902700604e-06\n",
      "\n",
      "180 samples for step_size 0.38\n",
      "weights: [0.045973   0.28984446 0.03924831]\n",
      "intercept: 0.0037642804712266498\n",
      "\n",
      "623 samples for step_size 0.41\n",
      "weights: [0.054045   0.28734706 0.05362149]\n",
      "intercept: -0.0003809073111376419\n",
      "\n",
      "0 samples for step_size 0.44\n",
      "Not enough samples, default to Simpson's rule.\n",
      "weights: [0.07333333 0.29333333 0.07333333]\n",
      "intercept: [0.]\n",
      "\n",
      "0 samples for step_size 0.47\n",
      "Not enough samples, default to Simpson's rule.\n",
      "weights: [0.07833333 0.31333333 0.07833333]\n",
      "intercept: [0.]\n",
      "\n",
      "0 samples for step_size 0.5\n",
      "Not enough samples, default to Simpson's rule.\n",
      "weights: [0.08333333 0.33333333 0.08333333]\n",
      "intercept: [0.]\n",
      "\n"
     ]
    }
   ],
   "source": [
    "# optimize weights using linear regression\n",
    "from sklearn.linear_model import LinearRegression\n",
    "\n",
    "models = []\n",
    "for step_size_idx in range(len(step_sizes)):\n",
    "    print(\"{} samples for step_size {}\".format(len(states[step_size_idx]), np.round(step_sizes[step_size_idx], 2)))\n",
    "    step_size = step_sizes[step_size_idx]\n",
    "\n",
    "    if len(states[step_size_idx]) < 100:\n",
    "        # there are not enough samples for a reliable calculation -> choose simpson\n",
    "        print(\"Not enough samples, default to Simpson's rule.\")\n",
    "        model = LinearRegression()\n",
    "        weights = step_size * np.array([1, 4, 1]) / 6\n",
    "        model.coef_ = weights\n",
    "        model.intercept_ = np.zeros((1,))\n",
    "    \n",
    "    else:\n",
    "        X = np.stack(states[step_size_idx])\n",
    "        y = np.array(integrals[step_size_idx])\n",
    "        model = LinearRegression().fit(X, y)\n",
    "\n",
    "        # disregard the 10% of worst data and fit again\n",
    "        pred = model.predict(X)\n",
    "        error = np.abs(y - pred)\n",
    "        ind = error.argsort()[-(len(error) // 10):][::-1]\n",
    "        X = np.delete(X, ind, axis=0)\n",
    "        y = np.delete(y, ind)\n",
    "        model = LinearRegression().fit(X, y)\n",
    "    models.append(model)\n",
    "\n",
    "    print(\"weights: {}\".format(model.coef_))\n",
    "    print(\"intercept: {}\".format(model.intercept_))\n",
    "    print('')"
   ]
  },
  {
   "cell_type": "code",
   "execution_count": 14,
   "id": "5bd08b94",
   "metadata": {},
   "outputs": [],
   "source": [
    "# build integrator with optimized weights\n",
    "from adaptive.integrator import IntegratorLinReg\n",
    "integrator = IntegratorLinReg(step_sizes, models, integrator)"
   ]
  },
  {
   "cell_type": "markdown",
   "id": "346f13c9",
   "metadata": {},
   "source": [
    "Finally, we evaluate the performance of the model with optimized weights. The average number of function evaluations should be the same as before, but we expect the average error to be smaller than when using the ordinary Simpson's rule."
   ]
  },
  {
   "cell_type": "code",
   "execution_count": 15,
   "id": "a3433b83",
   "metadata": {},
   "outputs": [
    {
     "data": {
      "image/png": "[encoded data removed]",
      "text/plain": [
       "<Figure size 432x288 with 1 Axes>"
      ]
     },
     "metadata": {
      "needs_background": "light"
     },
     "output_type": "display_data"
    }
   ],
   "source": [
    "num_samples = 300 # number of functions to sample from the class\n",
    "\n",
    "# performance NN with optimized weights\n",
    "errors = []\n",
    "evals = []\n",
    "for i in range(num_samples):\n",
    "    env.reset(integrator)\n",
    "    _, _, _, err = integrate_env(predictor, integrator, env, t0, t1)\n",
    "    errors.append(np.mean(err))\n",
    "    evals.append((len(env.nodes) - 1) * 2 + 1)\n",
    "\n",
    "perf_model_weights = np.array([np.mean(errors), np.mean(evals)])\n",
    "\n",
    "# plot results\n",
    "from matplotlib import pyplot as plt\n",
    "plt.loglog(perf_model[0], perf_model[1], 'rv', label='model')\n",
    "plt.loglog(perf_model_weights[0], perf_model_weights[1], 'ro', label='optim. weights')\n",
    "plt.loglog(perf_eq[:, 0], perf_eq[:, 1], 'bx-', label='equidistant')\n",
    "plt.legend()\n",
    "plt.xlabel('error per subinterval')\n",
    "plt.ylabel('number of function evals')\n",
    "plt.grid(which='both')\n",
    "plt.tight_layout()\n",
    "plt.show()"
   ]
  }
 ],
 "metadata": {
  "kernelspec": {
   "display_name": "Python 3 (ipykernel)",
   "language": "python",
   "name": "python3"
  },
  "language_info": {
   "codemirror_mode": {
    "name": "ipython",
    "version": 3
   },
   "file_extension": ".py",
   "mimetype": "text/x-python",
   "name": "python",
   "nbconvert_exporter": "python",
   "pygments_lexer": "ipython3",
   "version": "3.11.5"
  }
 },
 "nbformat": 4,
 "nbformat_minor": 5
}
