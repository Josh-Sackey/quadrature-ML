{
 "cells": [
  {
   "cell_type": "markdown",
   "metadata": {},
   "source": [
    "# Adaptive time-stepper for ODEs\n",
    "In this notebook, we show how to train a neural network to suggest optimal step sizes for Runge-Kutta methods. Consider the Lorenz system, i.e.\n",
    "    $$ \\frac{d}{dt} \\begin{bmatrix} x_1 \\\\\n",
    "            x_2 \\\\\n",
    "            x_3\n",
    "       \\end{bmatrix} = \\begin{bmatrix} \\sigma (x_2 - x_1) \\\\\n",
    "            x_1 (\\rho - x_3) - x_2 \\\\\n",
    "            x_1 x_2 - \\beta x_3\n",
    "       \\end{bmatrix}$$\n",
    "where $\\sigma = 10$, $\\beta = \\tfrac{8}{3}$, and $\\rho = 28$. We aim to integrate this ODE from initial conditions $t_0 = 0$, $x_0 = [10, 10, 10]^T$ until $t_1 = 200$. <br>\n",
    "Let us first gather some information about the Lorenz system in the following variables:"
   ]
  },
  {
   "cell_type": "code",
   "execution_count": 2,
   "metadata": {},
   "outputs": [],
   "source": [
    "import numpy as np\n",
    "\n",
    "x0 = np.array([10, 10, 10])  # start point of integration\n",
    "t0 = 0\n",
    "t1 = 200\n",
    "d = 3  # dimension of the ODE state space\n",
    "\n",
    "step_sizes = [0.025, 0.029, 0.033, 0.039, 0.045, 0.052, 0.060, 0.070]  # the NN will choose from these step sizes\n",
    "tol = 0.0001  # target integration error tolerance"
   ]
  },
  {
   "cell_type": "markdown",
   "metadata": {},
   "source": [
    "For the integration itself we will use the 5th order Runge-Kutta method that is part of the Dormand-Prince Runge Kutta method (RKDP) (to which we will later compare). Thus, we define the following variables as a preparation for creating the NN:"
   ]
  },
  {
   "cell_type": "code",
   "execution_count": 3,
   "metadata": {},
   "outputs": [],
   "source": [
    "from adaptive.integrator import RKDP\n",
    "integrator = RKDP()\n",
    "\n",
    "nodes_per_step = 6  # the RKDP method has 6 stages\n",
    "dim_action = len(step_sizes)  # the dimension of the action space of the NN\n",
    "memory = 0  # how many integration steps the predictor can look back"
   ]
  },
  {
   "cell_type": "markdown",
   "metadata": {},
   "source": [
    "Furthermore, it is a good idea to scale the inputs of the NN to order $\\approx 10^{-1}$. For this purpose we will use a scikit-learn StandardScaler. Note that the input dimension of the NN is given by `nodes_per_step * d + 1`."
   ]
  },
  {
   "cell_type": "code",
   "execution_count": 4,
   "metadata": {},
   "outputs": [],
   "source": [
    "from sklearn.preprocessing import StandardScaler\n",
    "\n",
    "scaler = StandardScaler()\n",
    "scaler.mean_ = np.zeros((nodes_per_step * d + 1) * (memory + 1))\n",
    "scaler.mean_[0] = -0.045\n",
    "scaler.scale_ = 10 * np.ones((nodes_per_step * d + 1) * (memory + 1))\n",
    "scaler.scale_[0] = 0.1"
   ]
  },
  {
   "cell_type": "markdown",
   "metadata": {},
   "source": [
    "Now we can initialize the NN. It is encapsuled by the Predictor object, which handles the interaction with the NN. The NN itself is created using tensorflow."
   ]
  },
  {
   "cell_type": "code",
   "execution_count": 5,
   "metadata": {},
   "outputs": [],
   "source": [
    "from adaptive.predictor import PredictorQODE\n",
    "from adaptive.build_models import build_value_modelODE\n",
    "\n",
    "predictor = PredictorQODE(step_sizes=step_sizes,\n",
    "                          model=build_value_modelODE(dim_state=nodes_per_step * d + 1,\n",
    "                                                     dim_action=dim_action,\n",
    "                                                     memory=memory),\n",
    "                          scaler=scaler)"
   ]
  },
  {
   "cell_type": "markdown",
   "metadata": {},
   "source": [
    "During the training process we have to reward or penalize the NN for its time step choices. We choose a reward function of the following form: if the integration error is below the tolerance, reward the NN with a value scaling with the chosen time step, i.e. larger time step yield larger rewards. If the integration error is higher than the tolerance, penalize the NN with a value scaling with the error, i.e. bigger error yields more negative rewards. Here we demonstrate the `RewardLog10` reward function, which has a logarithmic scaling for both positive and negative rewards. If you want to train the model yourself, we would suggest using the `RewardExp` reward function instead (see for example the quadrature.ipynb notebook)."
   ]
  },
  {
   "cell_type": "code",
   "execution_count": 6,
   "metadata": {},
   "outputs": [
    {
     "name": "stdout",
     "output_type": "stream",
     "text": [
      "[(5e-05, 0.025, 0.09999999999999969), (5e-05, 0.029, 0.37388567563805214), (5e-05, 0.033, 0.6123255163358278), (5e-05, 0.039, 0.9205974424121497), (5e-05, 0.045, 1.1846674457359516), (5e-05, 0.052, 1.4514692660562953), (5e-05, 0.06, 1.7155392693800968), (5e-05, 0.07, 2.0)]\n",
      "[(0.0001, 0.025, 0.0), (0.001, 0.025, -1.0), (0.01, 0.025, -2.0), (0.1, 0.025, -3.0)]\n"
     ]
    }
   ],
   "source": [
    "from adaptive.reward_functions import RewardLog10\n",
    "\n",
    "step_size_range = (step_sizes[0], step_sizes[-1])  # range of expected step sizes\n",
    "reward_range = (0.1, 2)  # range of positive rewards\n",
    "\n",
    "reward_fun = RewardLog10(error_tol=tol, step_size_range=step_size_range, reward_range=reward_range)\n",
    "\n",
    "# some example rewards\n",
    "# format (error, step size, reward)\n",
    "print([(0.5 * tol, h, reward_fun(0.5 * tol, h)) for h in step_sizes])  # positive rewards\n",
    "print([(tol * 10 ** m, step_sizes[0], reward_fun(tol * 10 ** m, step_sizes[0])) for m in range(4)])  # negative rewards"
   ]
  },
  {
   "cell_type": "markdown",
   "metadata": {},
   "source": [
    "In order to train the NN, we will need to repeatedly integrate the given ODE. The `ODEEnv` class handles the integration process. The most important method is `ODEEnv.iterate`, which takes a step size as an argument, integrates the ODE with the provided step size for one step, and provides the next state as an output. Moreover, the `ODEEnv` class keeps track of the integration error and calculates the rewards for the step size choices."
   ]
  },
  {
   "cell_type": "code",
   "execution_count": 7,
   "metadata": {},
   "outputs": [],
   "source": [
    "from adaptive.environments import ODEEnv\n",
    "from functions import LorenzSystem\n",
    "\n",
    "env = ODEEnv(fun=LorenzSystem(), max_iterations=10000, initial_step_size=0.025,\n",
    "             step_size_range=step_size_range,\n",
    "             error_tol=tol, nodes_per_integ=nodes_per_step, memory=memory, x0=x0, t0=t0, max_dist=t1 - t0)"
   ]
  },
  {
   "cell_type": "markdown",
   "metadata": {},
   "source": [
    "During the integration process we will store a few past states and desired NN outputs in an `Experience` object. If a certain number of experiences is stored or the integration is finished, we use the stored data (batch) to train the NN."
   ]
  },
  {
   "cell_type": "code",
   "execution_count": 8,
   "metadata": {},
   "outputs": [],
   "source": [
    "from adaptive.experience import ExperienceODE\n",
    "\n",
    "experience = ExperienceODE(batch_size=64)"
   ]
  },
  {
   "cell_type": "markdown",
   "metadata": {},
   "source": [
    "During training it is important that the NN explores sufficiently large parts of the action space in order to find the optimal step sizes for a given input. We will use the following function to randomly choose actions given the NN's output:"
   ]
  },
  {
   "cell_type": "code",
   "execution_count": 9,
   "metadata": {},
   "outputs": [],
   "source": [
    "def choose_action(actions, eps):\n",
    "    \"\"\"\n",
    "    With probability (1-eps) choose the action with highest expected reward.\n",
    "    Otherwise choose different action depending on expected reward.\n",
    "\n",
    "    Parameters\n",
    "    ----------\n",
    "    actions : np.ndarray\n",
    "    eps : float\n",
    "\n",
    "    Returns\n",
    "    -------\n",
    "    int\n",
    "    \"\"\"\n",
    "    sort_act = np.squeeze(np.argsort(-actions))\n",
    "    dim_a = len(np.squeeze(actions))\n",
    "    if dim_a == 2:\n",
    "        probs = [1 - eps, eps]\n",
    "    else:\n",
    "        a = - 1 / (dim_a - 1) * np.log(0.01 / (1 - eps))\n",
    "        probs = [(1 - eps) * np.exp(-a * idx) for idx in range(dim_a)]\n",
    "        probs[1:dim_a - 1] = probs[1:dim_a - 1] / np.linalg.norm(probs[1:dim_a - 1], 1) * (eps - 0.01)\n",
    "\n",
    "    return sort_act[np.random.choice(dim_a, p=probs)]"
   ]
  },
  {
   "cell_type": "markdown",
   "metadata": {},
   "source": [
    "Finally, we train the NN. The following training loop illustrates the training process for a few episodes. However, we will load a fully trained NN afterwards, so that you do not have to do the training yourself."
   ]
  },
  {
   "cell_type": "code",
   "execution_count": 14,
   "metadata": {},
   "outputs": [
    {
     "name": "stdout",
     "output_type": "stream",
     "text": [
      "episode: 0\n",
      "reward: 2820.2690024064245\n",
      "loss_predictor: 5.525769203901291\n"
     ]
    }
   ],
   "source": [
    "import warnings\n",
    "warnings.filterwarnings('ignore')\n",
    "\n",
    "gamma = 0  # discount factor for future rewards\n",
    "\n",
    "for episode in range(1):\n",
    "    state = env.reset(integrator=integrator)\n",
    "    reward_total = 0\n",
    "    loss_this_episode = 0\n",
    "    steps = 0\n",
    "    done = False\n",
    "    eps = 0.5\n",
    "    print('episode: {}'.format(episode))\n",
    "\n",
    "    while not done:\n",
    "        # get action from actor\n",
    "        actions = predictor.get_actions(state)\n",
    "        action = choose_action(actions, eps)\n",
    "        step_size = predictor.action_to_stepsize(action)\n",
    "\n",
    "        # execute action\n",
    "        next_state, reward, done, _ = env.iterate(step_size, integrator)\n",
    "        steps += 1\n",
    "        reward_total += reward\n",
    "\n",
    "        # find target values for NN output\n",
    "        action_next_state = predictor.get_actions(next_state)\n",
    "        target = reward + gamma * np.max(action_next_state)\n",
    "        target_actions = actions.squeeze()\n",
    "        target_actions[action] = target\n",
    "        experience.append(state=state, target=target_actions)\n",
    "            \n",
    "        if experience.is_full() or done:\n",
    "            states, targets = experience.get_samples()\n",
    "            loss_predictor = predictor.train_on_batch(states, targets)\n",
    "            loss_this_episode += loss_predictor\n",
    "            experience.reset()\n",
    "\n",
    "        state = next_state.copy()\n",
    "\n",
    "    print('reward: {}'.format(reward_total))\n",
    "    print('loss_predictor: {}'.format(loss_this_episode))\n",
    "    \n",
    "    # uncomment if you want to train the NN yourself and save the weights\n",
    "    # predictor.model.save_weights('predictorODE')"
   ]
  },
  {
   "cell_type": "code",
   "execution_count": 10,
   "metadata": {},
   "outputs": [],
   "source": [
    "# load the already trained NN\n",
    "predictor.model = build_value_modelODE(dim_state=nodes_per_step * d + 1,\n",
    "                                       dim_action=dim_action,\n",
    "                                       memory=memory,\n",
    "                                       filename='adaptive/model_ode/Lorenz/predictorODE')"
   ]
  },
  {
   "cell_type": "markdown",
   "metadata": {},
   "source": [
    "Before we evaluate the performance of the time step predictor, let us plot the time stepping for a small time interval."
   ]
  },
  {
   "cell_type": "code",
   "execution_count": 11,
   "metadata": {},
   "outputs": [
    {
     "name": "stdout",
     "output_type": "stream",
     "text": [
      "reward: 33.89246156986841\n",
      "nfev: 294\n",
      "mean error: 7.751255726544302e-05\n",
      "min error, max error: 2e-05, 0.00016\n",
      "min stepsize: 0.025\n",
      "max stepsize: 0.07\n"
     ]
    },
    {
     "data": {
      "image/png": "[encoded data removed]",
      "text/plain": [
       "<Figure size 432x288 with 5 Axes>"
      ]
     },
     "metadata": {
      "needs_background": "light"
     },
     "output_type": "display_data"
    }
   ],
   "source": [
    "from adaptive.comparison_ode import integrate_env\n",
    "\n",
    "# Integrate the environment from t0 to t1 using the specified predictor and integrator.\n",
    "reward, num_evals = integrate_env(predictor, integrator, env, t0=0, t1=2)\n",
    "\n",
    "print(\"reward: {}\".format(reward))\n",
    "print(\"nfev: {}\".format(num_evals))\n",
    "print(\"mean error: {}\".format(np.mean(env.errors)))\n",
    "print(\"min error, max error: {}, {}\".format(*np.round((np.min(env.errors), np.max(env.errors)), 5)))\n",
    "print(\"min stepsize: {}\".format(np.min(env.deltas)))\n",
    "print(\"max stepsize: {}\".format(np.max(env.deltas)))\n",
    "\n",
    "env.plot()"
   ]
  },
  {
   "cell_type": "markdown",
   "metadata": {},
   "source": [
    "Now we compare the performance of our solver (RK5 with step size controled by the NN) with the popular adaptive Runge Kutta method RK45 (ode45). (If the next cells takes too long on your machine, set t1 to a smaller value.)"
   ]
  },
  {
   "cell_type": "code",
   "execution_count": 12,
   "metadata": {},
   "outputs": [
    {
     "data": {
      "image/png": "[encoded data removed]",
      "text/plain": [
       "<Figure size 432x288 with 1 Axes>"
      ]
     },
     "metadata": {
      "needs_background": "light"
     },
     "output_type": "display_data"
    }
   ],
   "source": [
    "t1 = 200\n",
    "\n",
    "# evaluate performance of model\n",
    "reward, num_evals = integrate_env(predictor, integrator, env, t0=t0, t1=t1)\n",
    "perf_nn = [np.mean(env.errors), num_evals / (t1 - t0)]\n",
    "\n",
    "# evaluate performance of RK45\n",
    "from scipy.integrate import solve_ivp  # this function uses RK45 per default\n",
    "\n",
    "f = LorenzSystem()\n",
    "perf_rk45 = []\n",
    "tols = [1e-5, 2.5e-5, 5e-5, 1e-4]  # different tolerances for RK45\n",
    "\n",
    "for tol in tols:\n",
    "    f.reset()\n",
    "    sol = solve_ivp(f, (t0, t1), x0, atol=tol, rtol=tol)\n",
    "    x_predict = sol.y  # array of x (state) values of the RK45 solution\n",
    "    t_predict = sol.t  # array of t (time) values of the RK45 solution\n",
    "    # calculate step-wise absolute errors\n",
    "    this_errors = []\n",
    "    for idx in range(t_predict.shape[0] - 1):\n",
    "        # true solution is approximated with very accurate solve_ivp (tolerance=1e-8)\n",
    "        x_true = f.solve(t_predict[idx], x_predict[:, idx], t_predict[idx + 1]) \n",
    "        this_errors.append(np.linalg.norm(x_predict[:, idx + 1] - x_true))\n",
    "    perf_rk45.append([np.mean(this_errors), sol.nfev / (t1 - t0)])\n",
    "perf_rk45 = np.array(perf_rk45)\n",
    "\n",
    "# plot results\n",
    "from matplotlib import pyplot as plt\n",
    "plt.loglog(perf_nn[0], perf_nn[1], 'r^', label='model')\n",
    "plt.loglog(perf_rk45[:, 0], perf_rk45[:, 1], 'gx-', label='RK45')\n",
    "plt.legend()\n",
    "plt.xlabel('error per RK step')\n",
    "plt.ylabel('number of function eval.')\n",
    "plt.grid(which='both')\n",
    "plt.tight_layout()\n",
    "plt.show()"
   ]
  },
  {
   "cell_type": "code",
   "execution_count": null,
   "metadata": {},
   "outputs": [],
   "source": []
  }
 ],
 "metadata": {
  "kernelspec": {
   "display_name": "Python 3",
   "language": "python",
   "name": "python3"
  },
  "language_info": {
   "codemirror_mode": {
    "name": "ipython",
    "version": 3
   },
   "file_extension": ".py",
   "mimetype": "text/x-python",
   "name": "python",
   "nbconvert_exporter": "python",
   "pygments_lexer": "ipython3",
   "version": "3.8.5"
  }
 },
 "nbformat": 4,
 "nbformat_minor": 5
}
