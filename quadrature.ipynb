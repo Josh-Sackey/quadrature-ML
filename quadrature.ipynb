{
 "cells": [
  {
   "cell_type": "markdown",
   "id": "vietnamese-consumer",
   "metadata": {},
   "source": [
    "# Adaptive numerical Quadrature\n",
    "We will demonstrate how to train a NN to intelligently choose step sizes in numerical quadrature. We will focus on the following example: Integrate sine functions from the class\n",
    "$$ X = \\left\\{f : f(x) = \\sin(\\omega x + \\varphi) ~\\Big|~ \\omega, \\phi \\in \\mathbb{R} \\right\\} $$ with probability measure $\\omega, \\varphi \\sim \\text{Unif}[0,2\\pi]$ as best as possible using Simpson's rule. Let us store some information about this task in the following variables:"
   ]
  },
  {
   "cell_type": "code",
   "execution_count": 1,
   "id": "square-wyoming",
   "metadata": {},
   "outputs": [],
   "source": [
    "import numpy as np\n",
    "from adaptive.integrator import Simpson\n",
    "\n",
    "integrator = Simpson()\n",
    "\n",
    "step_sizes = [0.05, 0.1, 0.15, 0.2, 0.3, 0.4, 0.5, 0.75]  # the NN will choose from these step sizes\n",
    "tol = 0.0005  # target integration error tolerance\n",
    "nodes_per_step = 3  # Simpson's rule uses 3 nodes per integration step\n",
    "x0 = 0  # start point\n",
    "x1 = 20  # end point\n",
    "\n",
    "dim_action = len(step_sizes)  # the dimension of the action space of the NN\n",
    "memory = 0  # how many integration steps the predictor can look back"
   ]
  },
  {
   "cell_type": "markdown",
   "id": "acute-edmonton",
   "metadata": {},
   "source": [
    " It is a good idea to scale the inputs of the NN to order $\\approx 10^{-1}$. For this purpose we will use a scikit-learn StandardScaler."
   ]
  },
  {
   "cell_type": "code",
   "execution_count": 2,
   "id": "tamil-greenhouse",
   "metadata": {},
   "outputs": [],
   "source": [
    "from sklearn.preprocessing import StandardScaler\n",
    "import joblib\n",
    "\n",
    "scaler = joblib.load('adaptive/model_quad/model_sinus/Simpson/scaler.bin')"
   ]
  },
  {
   "cell_type": "markdown",
   "id": "invisible-bridges",
   "metadata": {},
   "source": [
    "Now we can finally initialize the NN. It is encapsuled by the Predictor object, which handles the interaction with the NN. The NN itself is created using tensorflow."
   ]
  },
  {
   "cell_type": "code",
   "execution_count": 3,
   "id": "liked-secondary",
   "metadata": {},
   "outputs": [],
   "source": [
    "from adaptive.predictor import PredictorQ\n",
    "from adaptive.build_models import build_value_model\n",
    "\n",
    "predictor = PredictorQ(step_sizes=step_sizes,\n",
    "                       model=build_value_model(dim_state=nodes_per_step, dim_action=dim_action, memory=memory),\n",
    "                       scaler=scaler)"
   ]
  },
  {
   "cell_type": "markdown",
   "id": "incident-engine",
   "metadata": {},
   "source": [
    "During the training process, we have to reward or penalize the NN for its step choices. We choose a reward function of the following form: If the integration error is below the tolerance, reward the NN with a value scaling with the chosen time step, i.e. bigger time step yields bigger reward. If the integration error is higher than the tolerance, penalize the NN with a value scaling with the error, i.e. bigger error yields more negative rewards. Here we choose the `RewardExp` reward function, which has a linear scaling for positive the rewards and exponentially decaying negative rewards."
   ]
  },
  {
   "cell_type": "code",
   "execution_count": 4,
   "id": "pursuant-tyler",
   "metadata": {},
   "outputs": [
    {
     "name": "stdout",
     "output_type": "stream",
     "text": [
      "[(0.00025, 0.05, 0.1), (0.00025, 0.1, 0.23571428571428574), (0.00025, 0.15, 0.37142857142857144), (0.00025, 0.2, 0.5071428571428572), (0.00025, 0.3, 0.7785714285714286), (0.00025, 0.4, 1.05), (0.00025, 0.5, 1.3214285714285714), (0.00025, 0.75, 1.9999999999999998)]\n",
      "[(0.0005, 0.05, 0.0), (0.001, 0.05, -1.0), (0.0015, 0.05, -1.5), (0.002, 0.05, -1.75), (0.0025, 0.05, -1.875)]\n"
     ]
    }
   ],
   "source": [
    "from adaptive.reward_functions import RewardExp\n",
    "\n",
    "step_size_range = (step_sizes[0], step_sizes[-1])  # range of expected step sizes\n",
    "reward_range = (0.1, 2)  # range of positive rewards\n",
    "\n",
    "reward_fun = RewardExp(error_tol=tol, step_size_range=step_size_range, reward_range=reward_range)\n",
    "\n",
    "# some example rewards\n",
    "# format (error, step size, reward)\n",
    "print([(0.5 * tol, h, reward_fun(0.5 * tol, h)) for h in step_sizes])\n",
    "print([(to, step_sizes[0], reward_fun(to, step_sizes[0])) for to in np.linspace(tol, 5 * tol, 5)])"
   ]
  },
  {
   "cell_type": "markdown",
   "id": "prospective-december",
   "metadata": {},
   "source": [
    "In order to train the NN, we will need to repeatedly sample and integrate functions from the given class. The `IntegrationEnv` class handles the integration process. The most important method is `IntegrationEnv.iterate`, which takes a step size as an argument, integrates the function with the provided step size for one step, and provides the next state as an output. Moreover, the `IntegrationEnv` class keeps track of the integration error and calculates the rewards for the step size choices."
   ]
  },
  {
   "cell_type": "code",
   "execution_count": 5,
   "id": "corrected-decimal",
   "metadata": {},
   "outputs": [],
   "source": [
    "from adaptive.environments import IntegrationEnv\n",
    "from functions import Sinus\n",
    "\n",
    "env = IntegrationEnv(fun=Sinus(), max_iterations=128, initial_step_size=0.1, step_size_range=(step_sizes[0], step_sizes[-1]),\n",
    "                     error_tol=tol, nodes_per_integ=nodes_per_step, memory=memory)"
   ]
  },
  {
   "cell_type": "markdown",
   "id": "rental-motivation",
   "metadata": {},
   "source": [
    "During the integration process, we will store a few past states and desired NN outputs in an `Experience` object. If a certain number of experiences is stored or the integration is finished, we use the stored data (batch) to train the NN."
   ]
  },
  {
   "cell_type": "code",
   "execution_count": 6,
   "id": "native-forwarding",
   "metadata": {},
   "outputs": [],
   "source": [
    "from adaptive.experience import Experience\n",
    "\n",
    "experience = Experience(batch_size=32)"
   ]
  },
  {
   "cell_type": "markdown",
   "id": "alternate-precipitation",
   "metadata": {},
   "source": [
    "While training, it is important for the NN to explore the action space in order to find the optimal step sizes for a given input. We will use the following function to randomly choose actions given the NN's output:"
   ]
  },
  {
   "cell_type": "code",
   "execution_count": 7,
   "id": "bulgarian-valley",
   "metadata": {},
   "outputs": [],
   "source": [
    "def choose_action(actions, eps):\n",
    "    \"\"\"\n",
    "    With probability (1-eps) choose the action with highest expected reward.\n",
    "    Otherwise choose different action depending on expected reward.\n",
    "\n",
    "    Parameters\n",
    "    ----------\n",
    "    actions : np.ndarray\n",
    "    eps : float\n",
    "\n",
    "    Returns\n",
    "    -------\n",
    "    int\n",
    "    \"\"\"\n",
    "    sort_act = np.squeeze(np.argsort(-actions))\n",
    "    dim_a = len(np.squeeze(actions))\n",
    "    if dim_a == 2:\n",
    "        probs = [1 - eps, eps]\n",
    "    else:\n",
    "        a = - 1 / (dim_a - 1) * np.log(0.01 / (1 - eps))\n",
    "        probs = [(1 - eps) * np.exp(-a * idx) for idx in range(dim_a)]\n",
    "        probs[1:dim_a - 1] = probs[1:dim_a - 1] / np.linalg.norm(probs[1:dim_a - 1], 1) * (eps - 0.01)\n",
    "\n",
    "    return sort_act[np.random.choice(dim_a, p=probs)]"
   ]
  },
  {
   "cell_type": "markdown",
   "id": "statewide-swing",
   "metadata": {},
   "source": [
    "Finally, we are able to train the NN. The following training loop showcases the training process for a few episodes. However, we will load a fully trained NN afterwards, so that you do not have to do the training yourself."
   ]
  },
  {
   "cell_type": "code",
   "execution_count": 8,
   "id": "usual-caribbean",
   "metadata": {},
   "outputs": [
    {
     "name": "stdout",
     "output_type": "stream",
     "text": [
      "episode: 0\n",
      "WARNING:tensorflow:Layer dense is casting an input tensor from dtype float64 to the layer's dtype of float32, which is new behavior in TensorFlow 2.  The layer has dtype float32 because it's dtype defaults to floatx.\n",
      "\n",
      "If you intended to run this layer in float32, you can safely ignore this warning. If in doubt, this warning is likely only an issue if you are porting a TensorFlow 1.X model to TensorFlow 2.\n",
      "\n",
      "To change all layers to have dtype float64 by default, call `tf.keras.backend.set_floatx('float64')`. To change just this layer, pass dtype='float64' to the layer constructor. If you are the author of this layer, you can disable autocasting by passing autocast=False to the base Layer constructor.\n",
      "\n",
      "WARNING:tensorflow:AutoGraph could not transform <function train_on_batch at 0x00000173A36A6438> and will run it as-is.\n",
      "Please report this to the TensorFlow team. When filing the bug, set the verbosity to 10 (on Linux, `export AUTOGRAPH_VERBOSITY=10`) and attach the full output.\n",
      "Cause: No module named 'tensorflow_core.estimator'\n",
      "WARNING: AutoGraph could not transform <function train_on_batch at 0x00000173A36A6438> and will run it as-is.\n",
      "Please report this to the TensorFlow team. When filing the bug, set the verbosity to 10 (on Linux, `export AUTOGRAPH_VERBOSITY=10`) and attach the full output.\n",
      "Cause: No module named 'tensorflow_core.estimator'\n",
      "reward: 100.77501224081398\n",
      "loss_predictor: 0.37464916706085205\n",
      "episode: 1\n",
      "reward: 142.18835564868783\n",
      "loss_predictor: 0.5593743324279785\n"
     ]
    }
   ],
   "source": [
    "gamma = 0  # discount factor for future rewards\n",
    "\n",
    "for episode in range(2):\n",
    "    state = env.reset()\n",
    "    reward_total = 0\n",
    "    loss_this_episode = 0\n",
    "    steps = 0\n",
    "    done = False\n",
    "    eps = 0.5\n",
    "\n",
    "    print('episode: {}'.format(episode))\n",
    "\n",
    "    while not done:\n",
    "        # get action from actor\n",
    "        actions = predictor.get_actions(state)\n",
    "        action = choose_action(actions, eps)\n",
    "        step_size = predictor.action_to_stepsize(action)\n",
    "\n",
    "        # execute action\n",
    "        next_state, reward, done, _ = env.iterate(step_size, integrator)\n",
    "        steps += 1\n",
    "        reward_total += reward\n",
    "\n",
    "        # find target values for NN output\n",
    "        action_next_state = predictor.get_actions(next_state)\n",
    "        target = reward + gamma * np.max(action_next_state)\n",
    "        target_actions = actions.squeeze()\n",
    "        target_actions[action] = target\n",
    "        experience.append(state=state, target=target_actions)\n",
    "            \n",
    "        if experience.is_full() or done:\n",
    "            states, targets = experience.get_samples()\n",
    "            loss_predictor = predictor.train_on_batch(states, targets)\n",
    "            loss_this_episode += loss_predictor\n",
    "            experience.reset()\n",
    "\n",
    "        state = next_state\n",
    "\n",
    "    print('reward: {}'.format(reward_total))\n",
    "    print('loss_predictor: {}'.format(loss_this_episode))\n",
    "\n",
    "    # uncomment if you want to train the NN yourself and save the weights\n",
    "    # predictor.model.save_weights('predictor')"
   ]
  },
  {
   "cell_type": "code",
   "execution_count": 9,
   "id": "legendary-knitting",
   "metadata": {},
   "outputs": [],
   "source": [
    "# load the already trained NN\n",
    "predictor.model = build_value_model(dim_state=nodes_per_step, dim_action=dim_action, memory=memory,\n",
    "                                    filename='adaptive/model_quad/model_sinus/Simpson/predictor')"
   ]
  },
  {
   "cell_type": "markdown",
   "id": "sensitive-weight",
   "metadata": {},
   "source": [
    "Before we begin to evaluate the performance of the step predictor, let us plot an integration of a sample function. (Repeat execution of next cell to sample different functions.)"
   ]
  },
  {
   "cell_type": "code",
   "execution_count": 10,
   "id": "coordinate-correspondence",
   "metadata": {},
   "outputs": [
    {
     "name": "stdout",
     "output_type": "stream",
     "text": [
      "WARNING:tensorflow:Layer dense_3 is casting an input tensor from dtype float64 to the layer's dtype of float32, which is new behavior in TensorFlow 2.  The layer has dtype float32 because it's dtype defaults to floatx.\n",
      "\n",
      "If you intended to run this layer in float32, you can safely ignore this warning. If in doubt, this warning is likely only an issue if you are porting a TensorFlow 1.X model to TensorFlow 2.\n",
      "\n",
      "To change all layers to have dtype float64 by default, call `tf.keras.backend.set_floatx('float64')`. To change just this layer, pass dtype='float64' to the layer constructor. If you are the author of this layer, you can disable autocasting by passing autocast=False to the base Layer constructor.\n",
      "\n",
      "Predictor error total: 0.008847321103253406\n",
      "Predictor error per step: 0.0001361126323577447\n",
      "Predictor evals: 131\n"
     ]
    },
    {
     "data": {
      "image/png": "[encoded data removed]",
      "text/plain": [
       "<Figure size 432x288 with 3 Axes>"
      ]
     },
     "metadata": {
      "needs_background": "light"
     },
     "output_type": "display_data"
    }
   ],
   "source": [
    "from adaptive.comparison import integrate_env\n",
    "\n",
    "env.reset()\n",
    "_, evals, _, errors = integrate_env(predictor, integrator, env, x0=x0, x1=x1)\n",
    "\n",
    "print('Predictor error total: {}'.format(np.sum(errors)))\n",
    "print('Predictor error per step: {}'.format(np.mean(errors)))\n",
    "print('Predictor evals: {}'.format(evals))\n",
    "\n",
    "env.plot(x_min=x0, x_max=x1)"
   ]
  },
  {
   "cell_type": "markdown",
   "id": "annual-bulgarian",
   "metadata": {},
   "source": [
    "Now we will compare the performance of our NN step size predictor to the equidistant Simpson's rule and to a subdivision algorithm. (If the execution of the next block takes a lot of time on your machine, you can reduce `num_samples`.)"
   ]
  },
  {
   "cell_type": "code",
   "execution_count": 11,
   "id": "qualified-synthesis",
   "metadata": {},
   "outputs": [
    {
     "data": {
      "image/png": "[encoded data removed]",
      "text/plain": [
       "<Figure size 432x288 with 1 Axes>"
      ]
     },
     "metadata": {
      "needs_background": "light"
     },
     "output_type": "display_data"
    }
   ],
   "source": [
    "num_samples = 500 # number of functions to sample from the class\n",
    "\n",
    "# performance NN\n",
    "errors = []\n",
    "evals = []\n",
    "for i in range(num_samples):\n",
    "    env.reset()\n",
    "    _, num_evals, _, err = integrate_env(predictor, integrator, env, x0, x1)\n",
    "    errors.append(np.mean(err))\n",
    "    evals.append(num_evals)\n",
    "\n",
    "perf_model = np.array([np.mean(errors), np.mean(evals)])\n",
    "\n",
    "# performance equidistant\n",
    "from adaptive.adapt_simps import Simps  # equidistant composite Simpson's rule\n",
    "step_s = np.linspace(0.1, 0.3, 4)  # step sizes for equidistant Simpson's rule\n",
    "perf_eq = []\n",
    "\n",
    "for h in step_s:\n",
    "    errors = []\n",
    "    for _ in range(num_samples):\n",
    "        env.reset()\n",
    "        simp = Simps(env.fun, x0, x1)\n",
    "        _, error_simps_step = simp(step_size=h, stepwise_error=True)\n",
    "        errors.append(np.mean(error_simps_step))\n",
    "    perf_eq.append([np.mean(errors), (x1 - x0) / h + 1])\n",
    "perf_eq = np.array(perf_eq)\n",
    "\n",
    "# performance subdivision method\n",
    "from adaptive.adapt_simps import AdaptSimpsConstEvals  # subdivision method with fixed number of evaluations\n",
    "nevals = [75, 108, 155, 186, 223, 268]  # different numbers of function evaluations\n",
    "perf_sub = []\n",
    "\n",
    "for neval in nevals:\n",
    "    errors = []\n",
    "    evals = []\n",
    "    for _ in range(num_samples):\n",
    "        env.reset()\n",
    "        asr = AdaptSimpsConstEvals(env.fun, x0, x1)\n",
    "        asr(neval)\n",
    "        stepwise_errors = asr.stepwise_errors\n",
    "        errors.append(np.mean(stepwise_errors))\n",
    "        evals.append(asr.evals)\n",
    "    perf_sub.append([np.mean(errors), np.mean(evals)])\n",
    "perf_sub = np.array(perf_sub)\n",
    "\n",
    "# plot results\n",
    "from matplotlib import pyplot as plt\n",
    "plt.loglog(perf_model[0], perf_model[1], 'rv', label='model')\n",
    "plt.loglog(perf_eq[:, 0], perf_eq[:, 1], 'bx-', label='equidistant')\n",
    "plt.loglog(perf_sub[:, 0], perf_sub[:, 1], 'g+-', label='subdivision')\n",
    "plt.legend()\n",
    "plt.xlabel('error per step')\n",
    "plt.ylabel('number of steps')\n",
    "plt.grid(which='both')\n",
    "plt.tight_layout()\n",
    "plt.show()\n"
   ]
  },
  {
   "cell_type": "markdown",
   "id": "choice-truth",
   "metadata": {},
   "source": [
    "Let us finally optimize the weights of the used quadrature rule for this class of functions instead of using the standard Simpson's rule. First we will acquire training data by sampling and integrating functions from the class using the NN adaptive time stepper. Then we use a scikit-learn `LinearRegression` to optimize the weights for each of the step sizes in `step_sizes`. If the data acquisition takes too long on your machine, you can load in already optimized weights later."
   ]
  },
  {
   "cell_type": "code",
   "execution_count": 12,
   "id": "national-treasury",
   "metadata": {},
   "outputs": [],
   "source": [
    "# acquire training data\n",
    "num_episodes = 300  # number of functions to sample and integrate\n",
    "\n",
    "num_step_sizes = len(step_sizes)\n",
    "states = [[] for _ in range(num_step_sizes)]  # states[i] is a list of states with the i_th step_size\n",
    "integrals = [[] for _ in range(num_step_sizes)]  # integrals[i] is a list with the associated correct integrals\n",
    "\n",
    "for episode in range(num_episodes):\n",
    "    state = env.reset()\n",
    "    done = False\n",
    "\n",
    "    while not done:\n",
    "        actions = predictor.get_actions(state)\n",
    "        action = np.argmax(actions)\n",
    "        next_state, reward, done, info = env.iterate(predictor.action_to_stepsize(action), integrator)\n",
    "        fa = info[\"f_a\"]\n",
    "        f_evals = next_state[1:env.nodes_per_integ]\n",
    "        f_evals = np.concatenate(([fa], f_evals + fa))\n",
    "        states[action].append(f_evals)\n",
    "        integrals[action].append(info[\"correct_integral\"])\n",
    "        state = next_state"
   ]
  },
  {
   "cell_type": "code",
   "execution_count": 13,
   "id": "economic-organ",
   "metadata": {},
   "outputs": [
    {
     "name": "stdout",
     "output_type": "stream",
     "text": [
      "0 samples for step_size 0\n",
      "weights: [0.01666667 0.06666667 0.01666667]\n",
      "intercept: [0.]\n",
      "\n",
      "0 samples for step_size 1\n",
      "weights: [0.03333333 0.13333333 0.03333333]\n",
      "intercept: [0.]\n",
      "\n",
      "16189 samples for step_size 2\n",
      "weights: [0.05106932 0.19801728 0.0510681 ]\n",
      "intercept: 6.256297808938591e-08\n",
      "\n",
      "5056 samples for step_size 3\n",
      "weights: [0.06779276 0.26453755 0.06779918]\n",
      "intercept: 9.849724855182096e-10\n",
      "\n",
      "4575 samples for step_size 4\n",
      "weights: [0.10198989 0.39628222 0.10199451]\n",
      "intercept: 1.5187750056384897e-06\n",
      "\n",
      "3412 samples for step_size 5\n",
      "weights: [0.13554158 0.5291594  0.13553637]\n",
      "intercept: 2.250621872403047e-06\n",
      "\n",
      "3665 samples for step_size 6\n",
      "weights: [0.16872551 0.66272521 0.16871604]\n",
      "intercept: 2.2093207058121456e-06\n",
      "\n",
      "5503 samples for step_size 7\n",
      "weights: [0.25191518 0.99619723 0.25192956]\n",
      "intercept: 2.083294429605642e-06\n",
      "\n"
     ]
    }
   ],
   "source": [
    "# optimize weights using linear regression\n",
    "from sklearn.linear_model import LinearRegression\n",
    "\n",
    "models = []\n",
    "for step_size_idx in range(len(step_sizes)):\n",
    "    print(\"{} samples for step_size {}\".format(len(states[step_size_idx]), step_size_idx))\n",
    "    step_size = step_sizes[step_size_idx]\n",
    "\n",
    "    if len(states[step_size_idx]) < 10:\n",
    "        # there are not enough samples for a reliable calculation -> choose simpson\n",
    "        model = LinearRegression()\n",
    "        weights = 2 * step_size * np.array([1, 4, 1]) / 6\n",
    "        model.coef_ = weights\n",
    "        model.intercept_ = np.zeros((1,))\n",
    "    \n",
    "    else:\n",
    "        X = np.stack(states[step_size_idx])\n",
    "        y = np.array(integrals[step_size_idx])\n",
    "        model = LinearRegression().fit(X, y)\n",
    "\n",
    "        # disregard the 10% of worst data and fit again\n",
    "        pred = model.predict(X)\n",
    "        error = np.abs(y - pred)\n",
    "        ind = error.argsort()[-(len(error) // 10):][::-1]\n",
    "        X = np.delete(X, ind, axis=0)\n",
    "        y = np.delete(y, ind)\n",
    "        model = LinearRegression().fit(X, y)\n",
    "\n",
    "        if np.linalg.norm(model.coef_) < 1e-4 * step_size:\n",
    "            # weights are = 0 -> use Simpson\n",
    "            weights = 2 * step_size * np.array([1, 4, 1]) / 6\n",
    "            model.coef_ = weights\n",
    "            model.intercept_ = np.zeros((1,))\n",
    "    models.append(model)\n",
    "\n",
    "    print(\"weights: {}\".format(model.coef_))\n",
    "    print(\"intercept: {}\".format(model.intercept_))\n",
    "    print('')"
   ]
  },
  {
   "cell_type": "code",
   "execution_count": 14,
   "id": "resident-compromise",
   "metadata": {},
   "outputs": [],
   "source": [
    "# optional: load optimal weights\n",
    "# models = load('adaptive/model_quad/model_sinus/Simpson/linreg_models.bin')"
   ]
  },
  {
   "cell_type": "code",
   "execution_count": 15,
   "id": "supported-electricity",
   "metadata": {},
   "outputs": [],
   "source": [
    "# build integrator with optimized weights\n",
    "from adaptive.integrator import IntegratorLinReg\n",
    "integrator = IntegratorLinReg(step_sizes, models)"
   ]
  },
  {
   "cell_type": "markdown",
   "id": "encouraging-participation",
   "metadata": {},
   "source": [
    "Finally, we will evaluate the performance of the model with optimized weights."
   ]
  },
  {
   "cell_type": "code",
   "execution_count": 16,
   "id": "shaped-addition",
   "metadata": {},
   "outputs": [
    {
     "data": {
      "image/png": "[encoded data removed]",
      "text/plain": [
       "<Figure size 432x288 with 1 Axes>"
      ]
     },
     "metadata": {
      "needs_background": "light"
     },
     "output_type": "display_data"
    }
   ],
   "source": [
    "num_samples = 500 # number of functions to sample from the class\n",
    "\n",
    "# performance NN with optimized weights\n",
    "errors = []\n",
    "evals = []\n",
    "for i in range(num_samples):\n",
    "    env.reset()\n",
    "    _, num_evals, _, err = integrate_env(predictor, integrator, env, x0, x1)\n",
    "    errors.append(np.mean(err))\n",
    "    evals.append(num_evals)\n",
    "\n",
    "perf_model_weights = np.array([np.mean(errors), np.mean(evals)])\n",
    "\n",
    "# plot results\n",
    "from matplotlib import pyplot as plt\n",
    "plt.loglog(perf_model[0], perf_model[1], 'rv', label='model')\n",
    "plt.loglog(perf_model_weights[0], perf_model_weights[1], 'ro', label='optim. weights')\n",
    "plt.loglog(perf_eq[:, 0], perf_eq[:, 1], 'bx-', label='equidistant')\n",
    "plt.legend()\n",
    "plt.xlabel('error per step')\n",
    "plt.ylabel('number of steps')\n",
    "plt.grid(which='both')\n",
    "plt.tight_layout()\n",
    "plt.show()"
   ]
  }
 ],
 "metadata": {
  "kernelspec": {
   "display_name": "Python [conda env:quad] *",
   "language": "python",
   "name": "conda-env-quad-py"
  },
  "language_info": {
   "codemirror_mode": {
    "name": "ipython",
    "version": 3
   },
   "file_extension": ".py",
   "mimetype": "text/x-python",
   "name": "python",
   "nbconvert_exporter": "python",
   "pygments_lexer": "ipython3",
   "version": "3.7.4"
  }
 },
 "nbformat": 4,
 "nbformat_minor": 5
}
