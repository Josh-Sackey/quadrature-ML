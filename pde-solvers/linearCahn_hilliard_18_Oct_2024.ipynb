{
 "cells": [
  {
   "cell_type": "code",
   "execution_count": 1,
   "id": "4e3fee75-c04f-4d43-ab0e-d77cb155ef94",
   "metadata": {},
   "outputs": [
    {
     "name": "stdout",
     "output_type": "stream",
     "text": [
      "pyvista and pyvistaqt are required to visualize the solution\n"
     ]
    }
   ],
   "source": [
    "import os\n",
    "from mpi4py import MPI\n",
    "from petsc4py import PETSc\n",
    "import numpy as np\n",
    "import ufl\n",
    "from basix.ufl import element, mixed_element\n",
    "from dolfinx import mesh, fem\n",
    "from dolfinx import default_real_type, log, plot\n",
    "from dolfinx.fem import Function, functionspace\n",
    "from dolfinx.fem.petsc import NonlinearProblem\n",
    "from dolfinx.io import XDMFFile\n",
    "from dolfinx.mesh import CellType, create_unit_square\n",
    "from dolfinx.nls.petsc import NewtonSolver\n",
    "from ufl import dx, grad, inner\n",
    "\n",
    "\n",
    "try:\n",
    "    import pyvista as pv\n",
    "    import pyvistaqt as pvqt\n",
    "    have_pyvista = True\n",
    "    if pv.OFF_SCREEN:\n",
    "        pv.start_xvfb(wait=0.5)\n",
    "except ModuleNotFoundError:\n",
    "    print(\"pyvista and pyvistaqt are required to visualize the solution\")\n",
    "    have_pyvista = False\n",
    "\n",
    "# Save all logging to file\n",
    "log.set_output_file(\"log.txt\")\n",
    "\n"
   ]
  },
  {
   "cell_type": "code",
   "execution_count": 2,
   "id": "3ba7868f-f96a-4303-b1a8-6813945f3a7b",
   "metadata": {},
   "outputs": [
    {
     "name": "stdout",
     "output_type": "stream",
     "text": [
      "Mixed Element Components:\n",
      "Functions u and u0 initialized.\n",
      "Initial solution u set to zero.\n"
     ]
    }
   ],
   "source": [
    "lmbda = 1.0  # surface parameter\n",
    "t = 0.0    # start time\n",
    "T = 0.5    # end time\n",
    "n = 10000   # number of steps \n",
    "dt = (T-t)/n\n",
    "theta = 0.5      # time-stepping method\n",
    "\n",
    "#msh = create_unit_square(MPI.COMM_WORLD, 96, 96, CellType.triangle)\n",
    "#msh.geometry.x[:] *= np.pi\n",
    "# Define mesh\n",
    "nx, ny = 1000, 1000\n",
    "msh = mesh.create_rectangle(MPI.COMM_WORLD, [np.array([0.0, 0.0]), np.array([np.pi, np.pi])],\n",
    "                               [nx, ny], mesh.CellType.triangle)\n",
    "\n",
    "\n",
    "\n",
    "\n",
    "P1 = element(\"Lagrange\", msh.basix_cell(), 1)#, dtype=default_real_type)\n",
    "ME = functionspace(msh, mixed_element([P1, P1]))\n",
    "print(\"Mixed Element Components:\")\n",
    "\n",
    "# Define test functions and unknowns\n",
    "q, v = ufl.TestFunctions(ME)\n",
    "u = Function(ME)  # current solution\n",
    "u0 = Function(ME)  # solution from previous converged step\n",
    "print(\"Functions u and u0 initialized.\")\n",
    "\n",
    "# Split mixed functions\n",
    "c, mu = ufl.split(u)\n",
    "c0, mu0 = ufl.split(u0)\n",
    "\n",
    "# Zero u\n",
    "u.x.array[:] = 0.0\n",
    "print(\"Initial solution u set to zero.\")"
   ]
  },
  {
   "cell_type": "code",
   "execution_count": 3,
   "id": "a3597df5-aa84-4a6a-92ba-d992962ba599",
   "metadata": {},
   "outputs": [],
   "source": [
    "# Define exact initial condition\n",
    "class exact_solution:\n",
    "    def __init__(self,t):\n",
    "        self.t=t\n",
    "    def __call__(self,x):\n",
    "        return -2.0*np.exp(-4 * t) * np.cos(x[0]) * np.cos(x[1])\n",
    "\n",
    "u_exact = exact_solution(t)\n",
    "# Set initial condition using exact solution at t = 0\n",
    "u.sub(0).interpolate(u_exact)\n",
    "u.x.scatter_forward()\n",
    "u0.sub(0).interpolate(u_exact)\n",
    "u0.x.scatter_forward()\n",
    "\n",
    "\n",
    "# Define forcing expression\n",
    "class ForcingExpression:\n",
    "    def __init__(self, lmbda, t):\n",
    "        self.lmbda = lmbda\n",
    "        self.t = t\n",
    "\n",
    "    def __call__(self, x):\n",
    "        result = 0.0\n",
    "       \n",
    "        # Normalize the result to a range [0, 1] (or any other desired range)\n",
    "#         min_val = np.min(result)  # Find the minimum value in the result\n",
    "#         max_val = np.max(result)  # Find the maximum value in the result\n",
    "#         normalized_result = (result - min_val) / (max_val - min_val)  # Normalize to [0, 1]\n",
    "\n",
    "        return result  # Return normalized result\n",
    "\n",
    "# Function to compute the L2 error\n",
    "def compute_l2_error(u_num, t):\n",
    "    u_exact = Function(ME)\n",
    "    u_exact.sub(0).interpolate(exact_solution(t))\n",
    "\n",
    "    # # Print array shapes to debug the mismatch\n",
    "    # print(f\"Shape of numerical solution array: {u_num.x.array.shape}\")\n",
    "    # print(f\"Shape of exact solution array: {u_exact.x.array.shape}\")\n",
    "\n",
    "    # Check if the shapes match\n",
    "    assert u_num.x.array.shape == u_exact.x.array.shape, \\\n",
    "        \"Shape mismatch between numerical and exact solution arrays.\"\n",
    "    \n",
    "    # Use the UFL representation to calculate the error\n",
    "    error_expr = u_num - u_exact\n",
    "\n",
    "    # Compute the L2 norm of the error\n",
    "    L2_error_form = fem.form(inner(error_expr, error_expr) * dx)\n",
    "    L2_error = fem.assemble_scalar(L2_error_form)\n",
    "\n",
    "    return np.sqrt(L2_error)"
   ]
  },
  {
   "cell_type": "code",
   "execution_count": 4,
   "id": "b9228107-76f4-4ec1-b5bc-85ff0f3cdfcb",
   "metadata": {},
   "outputs": [
    {
     "name": "stdout",
     "output_type": "stream",
     "text": [
      "Chemical potential computed.\n",
      "Forcing function interpolated successfully.\n",
      "Variational forms defined.\n"
     ]
    }
   ],
   "source": [
    "# Compute the chemical potential df/dc\n",
    "c = ufl.variable(c)\n",
    "f = 0.0#0.25*(1-c**2)**2\n",
    "dfdc = ufl.diff(f, c)\n",
    "print(\"Chemical potential computed.\")\n",
    "forcing_expr= ForcingExpression(lmbda, t)\n",
    "V0, dofs = ME.sub(0).collapse()\n",
    "#forcing_term= Function(V0)\n",
    "#forcing_term.interpolate(lambda x: forcing_expr(x))\n",
    "print(\"Forcing function interpolated successfully.\")\n",
    "\n",
    "\n",
    "mu_mid = (1.0 - theta) * mu0 + theta * mu\n",
    "# Weak statement of the equations\n",
    "F0 = inner(c, q) * dx - inner(c0, q) * dx + dt * inner(grad(mu_mid), grad(q)) * dx #- inner(forcing_term, q) * dx\n",
    "F1 = inner(mu, v) * dx - lmbda * inner(grad(c), grad(v)) * dx #- inner(dfdc, v) * dx\n",
    "\n",
    "F = F0 + F1\n",
    "print(\"Variational forms defined.\")\n"
   ]
  },
  {
   "cell_type": "code",
   "execution_count": 5,
   "id": "63778748-373d-49ee-8f9d-0671b83f9b48",
   "metadata": {},
   "outputs": [
    {
     "name": "stdout",
     "output_type": "stream",
     "text": [
      "Nonlinear problem and solver created.\n",
      "Krylov solver options set.\n"
     ]
    }
   ],
   "source": [
    "# Create nonlinear problem and Newton solver\n",
    "problem = NonlinearProblem(F, u)\n",
    "solver = NewtonSolver(MPI.COMM_WORLD, problem)\n",
    "solver.convergence_criterion = \"residual\"\n",
    "solver.rtol = np.sqrt(np.finfo(float).eps) * 1e-2\n",
    "print(\"Nonlinear problem and solver created.\")\n",
    "\n",
    "# Set PETSc options for the Krylov solver\n",
    "ksp = solver.krylov_solver\n",
    "opts = PETSc.Options()\n",
    "option_prefix = ksp.getOptionsPrefix()\n",
    "opts[f\"{option_prefix}ksp_type\"] = \"preonly\"\n",
    "opts[f\"{option_prefix}pc_type\"] = \"lu\"\n",
    "sys = PETSc.Sys()\n",
    "if sys.hasExternalPackage(\"mumps\"):\n",
    "    opts[f\"{option_prefix}pc_factor_mat_solver_type\"] = \"mumps\"\n",
    "elif sys.hasExternalPackage(\"superlu_dist\"):\n",
    "    opts[f\"{option_prefix}pc_factor_mat_solver_type\"] = \"superlu_dist\"\n",
    "ksp.setFromOptions()\n",
    "print(\"Krylov solver options set.\")"
   ]
  },
  {
   "cell_type": "code",
   "execution_count": null,
   "id": "62529383-a5e6-4321-96b2-e2450388a935",
   "metadata": {},
   "outputs": [
    {
     "name": "stdout",
     "output_type": "stream",
     "text": [
      "Solve result: (1, True)\n",
      "Step 1: num iterations: 1\n",
      "Shape of ccc numerical solution array: (2004002,)\n",
      "L2 error at time 5e-05: 6.2825622235858205\n"
     ]
    }
   ],
   "source": [
    "# Output file\n",
    "# file = XDMFFile(MPI.COMM_WORLD, \"demo_ch/output.xdmf\", \"w\")\n",
    "# file.write_mesh(msh)\n",
    "# print(\"Mesh written to output file.\")\n",
    "\n",
    "\n",
    "# Pyvista visualization\n",
    "if have_pyvista:\n",
    "    topology, cell_types, x = plot.vtk_mesh(V0)\n",
    "    grid = pv.UnstructuredGrid(topology, cell_types, x)\n",
    "    grid.point_data[\"c\"] = u.x.array[dofs].real\n",
    "    grid.set_active_scalars(\"c\")\n",
    "    p = pvqt.BackgroundPlotter(title=\"concentration\", auto_update=True)\n",
    "    max_val = np.max(np.abs(u.x.array[dofs].real))\n",
    "    p.add_mesh(grid, clim=[-max_val, max_val])\n",
    "    p.view_xy(True)\n",
    "    p.add_text(f\"time: {t}\", font_size=12, name=\"timelabel\")\n",
    "\n",
    "c = u.sub(0)\n",
    "u0.x.array[:] = u.x.array\n",
    "while t < T:\n",
    "    t += dt\n",
    "\n",
    "    # Update the forcing term\n",
    "#     forcing_expr.t = t\n",
    "#     forcing_term.interpolate(lambda x: forcing_expr(x))\n",
    "#     forcing_term.x.scatter_forward()\n",
    "\n",
    "    r = solver.solve(u)\n",
    "    print(f\"Solve result: {r}\")\n",
    "\n",
    "    # Print the number of iterations for the current time step\n",
    "    print(f\"Step {int(t / dt)}: num iterations: {r[0]}\")\n",
    "\n",
    "    # Update the previous solution u0 with the current solution\n",
    "    u0.x.array[:] = u.x.array\n",
    "\n",
    "    \n",
    "    # # Write the solution to file for post-processing\n",
    "    print(f\"Shape of ccc numerical solution array: {u.x.array.shape}\")\n",
    "    L2_error = compute_l2_error(u, t)\n",
    "    print(f\"L2 error at time {t}: {L2_error}\")\n",
    "    #file.write_function(c, t)\n",
    "\n",
    "    # Update visualization (if applicable)\n",
    "    if have_pyvista:\n",
    "        p.add_text(f\"time: {t:.2e}\", font_size=12, name=\"timelabel\")\n",
    "        grid.point_data[\"c\"] = u.x.array[dofs].real\n",
    "        p.app.processEvents()\n",
    "\n",
    "#file.close()"
   ]
  },
  {
   "cell_type": "code",
   "execution_count": null,
   "id": "d3e1e89e-6f2c-4b6e-89c8-2952eadc29ae",
   "metadata": {},
   "outputs": [],
   "source": [
    "# Update ghost entries and plot\n",
    "if have_pyvista:\n",
    "    u.x.scatter_forward()\n",
    "    grid.point_data[\"c\"] = u.x.array[dofs].real\n",
    "    screenshot = None\n",
    "    if pv.OFF_SCREEN:\n",
    "        screenshot = \"c.png\"\n",
    "    pv.plot(grid, show_edges=True, screenshot=screenshot)"
   ]
  },
  {
   "cell_type": "code",
   "execution_count": null,
   "id": "dbb361ce-04f5-4b54-a228-c22ca75b1fae",
   "metadata": {},
   "outputs": [],
   "source": []
  }
 ],
 "metadata": {
  "kernelspec": {
   "display_name": "advfea",
   "language": "python",
   "name": "advfea"
  },
  "language_info": {
   "codemirror_mode": {
    "name": "ipython",
    "version": 3
   },
   "file_extension": ".py",
   "mimetype": "text/x-python",
   "name": "python",
   "nbconvert_exporter": "python",
   "pygments_lexer": "ipython3",
   "version": "3.11.5"
  }
 },
 "nbformat": 4,
 "nbformat_minor": 5
}
