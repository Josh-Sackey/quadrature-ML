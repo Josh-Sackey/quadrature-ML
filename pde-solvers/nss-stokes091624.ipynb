{
 "cells": [
  {
   "cell_type": "code",
   "execution_count": 1,
   "id": "11b6688c",
   "metadata": {},
   "outputs": [],
   "source": [
    "from dolfinx import fem, mesh\n",
    "import dolfinx.fem.petsc\n",
    "from mpi4py import MPI\n",
    "from petsc4py import PETSc\n",
    "\n",
    "import basix.ufl\n",
    "import matplotlib.pylab as plt\n",
    "import numpy as np\n",
    "from ufl import (SpatialCoordinate, TrialFunction, TestFunction,\n",
    "                 as_vector, cos, sin, inner, div, grad, dx, pi)"
   ]
  },
  {
   "cell_type": "code",
   "execution_count": 2,
   "id": "051fbbab",
   "metadata": {},
   "outputs": [],
   "source": [
    "def u_ex(x):\n",
    "    sinx = sin(pi * x[0])\n",
    "    siny = sin(pi * x[1])\n",
    "    cosx = cos(pi * x[0])\n",
    "    cosy = cos(pi * x[1])\n",
    "    c_factor = 2 * pi * sinx * siny\n",
    "    return c_factor * as_vector((cosy * sinx, - cosx * siny))\n",
    "\n",
    "def p_ex(x):\n",
    "    return sin(2 * pi * x[0]) * sin(2 * pi * x[1])\n",
    "\n",
    "def source(x):\n",
    "    u, p = u_ex(x), p_ex(x)\n",
    "    return - div(grad(u)) + grad(p)"
   ]
  },
  {
   "cell_type": "code",
   "execution_count": 3,
   "id": "1510c750",
   "metadata": {},
   "outputs": [],
   "source": [
    "def create_bilinear_form(V, Q):\n",
    "    u, p = TrialFunction(V), TrialFunction(Q)\n",
    "    v, q = TestFunction(V), TestFunction(Q)\n",
    "    a_uu = inner(grad(u), grad(v)) * dx\n",
    "    a_up = inner(p, div(v)) * dx\n",
    "    a_pu = inner(div(u), q) * dx\n",
    "    return fem.form([[a_uu, a_up], [a_pu, None]])"
   ]
  },
  {
   "cell_type": "code",
   "execution_count": 4,
   "id": "804bfa73",
   "metadata": {},
   "outputs": [],
   "source": [
    "def create_linear_form(V, Q):\n",
    "    v, q = TestFunction(V), TestFunction(Q)\n",
    "    domain = V.mesh\n",
    "    x = SpatialCoordinate(domain)\n",
    "    f = source(x)\n",
    "    return fem.form([inner(f, v) * dx,\n",
    "                     inner(fem.Constant(domain, 0.), q) * dx])"
   ]
  },
  {
   "cell_type": "code",
   "execution_count": 5,
   "id": "3e32edcb",
   "metadata": {},
   "outputs": [],
   "source": [
    "def create_velocity_bc(V):\n",
    "    domain = V.mesh\n",
    "    g = fem.Constant(domain, [0., 0.])\n",
    "    tdim = domain.topology.dim\n",
    "    domain.topology.create_connectivity(tdim - 1, tdim)\n",
    "    bdry_facets = mesh.exterior_facet_indices(domain.topology)\n",
    "    dofs = fem.locate_dofs_topological(V, tdim - 1, bdry_facets)\n",
    "    return [fem.dirichletbc(g, dofs, V)]"
   ]
  },
  {
   "cell_type": "code",
   "execution_count": 6,
   "id": "4f479276",
   "metadata": {},
   "outputs": [],
   "source": [
    "def create_nullspace(rhs_form):\n",
    "    null_vec = fem.petsc.create_vector_nest(rhs_form)\n",
    "    null_vecs = null_vec.getNestSubVecs()\n",
    "    null_vecs[0].set(0.0)\n",
    "    null_vecs[1].set(1.0)\n",
    "    null_vec.normalize()\n",
    "    nsp = PETSc.NullSpace().create(vectors=[null_vec])\n",
    "    return nsp"
   ]
  },
  {
   "cell_type": "code",
   "execution_count": 7,
   "id": "997957b3",
   "metadata": {},
   "outputs": [],
   "source": [
    "def create_preconditioner(Q, a, bcs):\n",
    "    p, q = TrialFunction(Q), TestFunction(Q)\n",
    "    a_p11 = fem.form(inner(p, q) * dx)\n",
    "    a_p = fem.form([[a[0][0], None],\n",
    "                    [None, a_p11]])\n",
    "    P = dolfinx.fem.petsc.assemble_matrix_nest(a_p, bcs)\n",
    "    P.assemble()\n",
    "    return P"
   ]
  },
  {
   "cell_type": "code",
   "execution_count": 8,
   "id": "98e075da",
   "metadata": {},
   "outputs": [],
   "source": [
    "def assemble_system(lhs_form, rhs_form, bcs):\n",
    "    A = fem.petsc.assemble_matrix_nest(lhs_form, bcs=bcs)\n",
    "    A.assemble()\n",
    "\n",
    "    b = dolfinx.fem.petsc.assemble_vector_nest(rhs_form)\n",
    "    dolfinx.fem.petsc.apply_lifting_nest(b, lhs_form, bcs=bcs)\n",
    "    for b_sub in b.getNestSubVecs():\n",
    "        b_sub.ghostUpdate(addv=PETSc.InsertMode.ADD,\n",
    "                          mode=PETSc.ScatterMode.REVERSE)\n",
    "    spaces = fem.extract_function_spaces(rhs_form)\n",
    "    bcs0 = fem.bcs_by_block(spaces, bcs)\n",
    "    dolfinx.fem.petsc.set_bc_nest(b, bcs0)\n",
    "    return A, b"
   ]
  },
  {
   "cell_type": "code",
   "execution_count": 9,
   "id": "b1a0e1b2",
   "metadata": {},
   "outputs": [],
   "source": [
    "def create_block_solver(A, b, P, comm):\n",
    "    ksp = PETSc.KSP().create(comm)\n",
    "    ksp.setOperators(A, P)\n",
    "    ksp.setType(\"minres\")\n",
    "    ksp.setTolerances(rtol=1e-9)\n",
    "    ksp.getPC().setType(\"fieldsplit\")\n",
    "    ksp.getPC().setFieldSplitType(PETSc.PC.CompositeType.ADDITIVE)\n",
    "\n",
    "    nested_IS = P.getNestISs()\n",
    "    ksp.getPC().setFieldSplitIS((\"u\", nested_IS[0][0]),\n",
    "                                (\"p\", nested_IS[0][1]))\n",
    "\n",
    "    # Set the preconditioners for each block\n",
    "    ksp_u, ksp_p = ksp.getPC().getFieldSplitSubKSP()\n",
    "    ksp_u.setType(\"preonly\")\n",
    "    ksp_u.getPC().setType(\"gamg\")\n",
    "    ksp_p.setType(\"preonly\")\n",
    "    ksp_p.getPC().setType(\"jacobi\")\n",
    "\n",
    "    # Monitor the convergence of the KSP\n",
    "    ksp.setFromOptions()\n",
    "    return ksp"
   ]
  },
  {
   "cell_type": "code",
   "execution_count": 10,
   "id": "8d4c7497",
   "metadata": {},
   "outputs": [],
   "source": [
    "def assemble_scalar(J, comm: MPI.Comm):\n",
    "    scalar_form = fem.form(J)\n",
    "    local_J = fem.assemble_scalar(scalar_form)\n",
    "    return comm.allreduce(local_J, op=MPI.SUM)\n",
    "\n",
    "def compute_errors(u, p):\n",
    "    domain = u.function_space.mesh\n",
    "    x = SpatialCoordinate(domain)\n",
    "    error_u = u - u_ex(x)\n",
    "    H1_u = inner(error_u, error_u) * dx\n",
    "    H1_u += inner(grad(error_u), grad(error_u)) * dx\n",
    "    velocity_error = np.sqrt(assemble_scalar(H1_u, domain.comm))\n",
    "\n",
    "    error_p = -p - p_ex(x)\n",
    "    L2_p = fem.form(error_p * error_p * dx)\n",
    "    pressure_error = np.sqrt(assemble_scalar(L2_p, domain.comm))\n",
    "    return velocity_error, pressure_error"
   ]
  },
  {
   "cell_type": "code",
   "execution_count": 11,
   "id": "26599c17",
   "metadata": {},
   "outputs": [],
   "source": [
    "def solve_stokes(u_element, p_element, domain):\n",
    "    V = fem.functionspace(domain, u_element)\n",
    "    Q = fem.functionspace(domain, p_element)\n",
    "\n",
    "    lhs_form = create_bilinear_form(V, Q)\n",
    "    rhs_form = create_linear_form(V, Q)\n",
    "\n",
    "    bcs = create_velocity_bc(V)\n",
    "    nsp = create_nullspace(rhs_form)\n",
    "    A, b = assemble_system(lhs_form, rhs_form, bcs)\n",
    "    assert nsp.test(A)\n",
    "    A.setNullSpace(nsp)\n",
    "\n",
    "    P = create_preconditioner(Q, lhs_form, bcs)\n",
    "    ksp = create_block_solver(A, b, P, domain.comm)\n",
    "\n",
    "    u, p = fem.Function(V), fem.Function(Q)\n",
    "    w = PETSc.Vec().createNest([u.vector, p.vector])\n",
    "    ksp.solve(b, w)\n",
    "    assert ksp.getConvergedReason() > 0\n",
    "    u.x.scatter_forward()\n",
    "    p.x.scatter_forward()\n",
    "    return compute_errors(u, p)"
   ]
  },
  {
   "cell_type": "code",
   "execution_count": 12,
   "id": "bf17cdc7",
   "metadata": {},
   "outputs": [
    {
     "name": "stdout",
     "output_type": "stream",
     "text": [
      "[9.01794523e-02 1.13075068e-02 1.40904381e-03 1.75739627e-04\n",
      " 2.19406501e-05 2.74088590e-06]\n",
      "[1.34402450e-02 1.41833660e-03 1.46271151e-04 1.58130680e-05\n",
      " 1.80065071e-06 2.13539110e-07]\n"
     ]
    }
   ],
   "source": [
    "##main block:\n",
    "N0=7\n",
    "refinements=6\n",
    "hs = np.zeros(refinements)\n",
    "u_errors = np.zeros(refinements)\n",
    "p_errors = np.zeros(refinements)\n",
    "element_u = basix.ufl.element(\"Lagrange\", \"triangle\", 3, shape=(2, ))\n",
    "element_p = basix.ufl.element(\"Lagrange\", \"triangle\", 2)\n",
    "comm = MPI.COMM_WORLD\n",
    "for i in range(refinements):\n",
    "        N = N0 * 2**i\n",
    "        domain = mesh.create_unit_square(\n",
    "            comm, N, N, mesh.CellType.triangle)\n",
    "        u_errors[i], p_errors[i] = solve_stokes(element_u, element_p, domain)\n",
    "        hs[i] = 1. / N\n",
    "print(u_errors)\n",
    "print(p_errors)\n",
    "        "
   ]
  },
  {
   "cell_type": "code",
   "execution_count": null,
   "id": "980b1ca4",
   "metadata": {},
   "outputs": [],
   "source": []
  }
 ],
 "metadata": {
  "kernelspec": {
   "display_name": "advfea",
   "language": "python",
   "name": "advfea"
  },
  "language_info": {
   "codemirror_mode": {
    "name": "ipython",
    "version": 3
   },
   "file_extension": ".py",
   "mimetype": "text/x-python",
   "name": "python",
   "nbconvert_exporter": "python",
   "pygments_lexer": "ipython3",
   "version": "3.11.5"
  }
 },
 "nbformat": 4,
 "nbformat_minor": 5
}
