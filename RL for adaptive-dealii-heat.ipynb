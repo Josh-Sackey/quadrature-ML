{
 "cells": [
  {
   "cell_type": "code",
   "execution_count": 7,
   "id": "4c562892",
   "metadata": {},
   "outputs": [],
   "source": [
    "# Block 1: Setup and Initialization\n",
    "import numpy as np\n",
    "from petsc4py import PETSc\n",
    "from mpi4py import MPI\n",
    "import ufl\n",
    "from dolfinx import mesh, fem\n",
    "from dolfinx.fem.petsc import assemble_matrix, assemble_vector, apply_lifting, create_vector, set_bc\n",
    "\n",
    "# Domain and Function Space Setup\n",
    "nx, ny = 5, 5\n",
    "domain = mesh.create_unit_square(MPI.COMM_WORLD, nx, ny, mesh.CellType.triangle)\n",
    "V = fem.functionspace(domain, (\"Lagrange\", 1))\n",
    "\n",
    "# Exact Solution Class\n",
    "class exact_solution():\n",
    "    def __init__(self, alpha, beta, t):\n",
    "        self.alpha = alpha\n",
    "        self.beta = beta\n",
    "        self.t = t\n",
    "\n",
    "    def __call__(self, x):\n",
    "        return -np.sin(np.pi*self.alpha*x[0])*np.sin(np.pi*self.beta*x[1])* np.exp(-(self.alpha**2 + self.beta**2)*np.pi**2* self.t)\n",
    "\n",
    "alpha, beta = 10, 1\n",
    "t0, t1 = 0, 20\n",
    "u_exact = exact_solution(alpha, beta, t0)\n",
    "u_D = fem.Function(V)\n",
    "u_D.interpolate(u_exact)\n",
    "\n",
    "# Dirichlet Boundary Condition\n",
    "tdim = domain.topology.dim\n",
    "fdim = tdim - 1\n",
    "domain.topology.create_connectivity(fdim, tdim)\n",
    "boundary_facets = mesh.exterior_facet_indices(domain.topology)\n",
    "bc = fem.dirichletbc(u_D, fem.locate_dofs_topological(V, fdim, boundary_facets))\n",
    "\n",
    "# Initial Condition\n",
    "u_n = fem.Function(V)\n",
    "u_n.interpolate(u_exact)\n",
    "f = fem.Constant(domain, 0.0)\n",
    "\n",
    "# Variational Form\n",
    "u, v = ufl.TrialFunction(V), ufl.TestFunction(V)\n",
    "dt = 0.05 / 20  # Time step size\n",
    "F = u * v * ufl.dx + dt * ufl.dot(ufl.grad(u), ufl.grad(v)) * ufl.dx - (u_n + dt * f) * v * ufl.dx\n",
    "a = fem.form(ufl.lhs(F))\n",
    "L = fem.form(ufl.rhs(F))\n",
    "\n",
    "# Assembling Matrix\n",
    "A = assemble_matrix(a, bcs=[bc])\n",
    "A.assemble()\n",
    "b = create_vector(L)\n"
   ]
  },
  {
   "cell_type": "code",
   "execution_count": 8,
   "id": "23cd4244",
   "metadata": {},
   "outputs": [
    {
     "name": "stdout",
     "output_type": "stream",
     "text": [
      "Shape of scaler mean_: (4,)\n",
      "Shape of scaler scale_: (4,)\n"
     ]
    }
   ],
   "source": [
    "# Block 2: Adaptive Integrator and Predictor Setup\n",
    "from adaptive.integrator import SimpsonsRulePDE\n",
    "from adaptive.predictor import PredictorQPDE\n",
    "from adaptive.build_models import build_value_model\n",
    "from adaptive.reward_functions import RewardLog10\n",
    "from sklearn.preprocessing import StandardScaler\n",
    "from adaptive.experience import Experience\n",
    "\n",
    "integrator = SimpsonsRulePDE()  \n",
    "step_sizes = np.linspace(0.2, 0.5, 11)\n",
    "dim_state = 4\n",
    "dim_action = len(step_sizes)\n",
    "memory = 0\n",
    "tol = 0.0005\n",
    "\n",
    "reward_fun = RewardLog10(error_tol=tol, step_size_range=(step_sizes[0], step_sizes[-1]), reward_range=(0.1, 2))\n",
    "scaler = StandardScaler()\n",
    "scaler.scale_ = np.ones(dim_state)\n",
    "scaler.mean_ = np.zeros(dim_state)\n",
    "model = build_value_model(dim_state=dim_state, dim_action=dim_action, lr=0.001)\n",
    "predictor = PredictorQPDE(step_sizes=step_sizes, model=model, scaler=scaler)\n",
    "experience = Experience(batch_size=32)\n",
    "print(\"Shape of scaler mean_:\", scaler.mean_.shape)\n",
    "print(\"Shape of scaler scale_:\", scaler.scale_.shape)\n"
   ]
  },
  {
   "cell_type": "code",
   "execution_count": 9,
   "id": "c9fdea41",
   "metadata": {},
   "outputs": [],
   "source": [
    "# Block 3: Environment Setup\n",
    "from adaptive.environments import PDEEnv\n",
    "from functions import Sinusoid, HeatEquation\n",
    "\n",
    "initial_state = np.zeros(dim_state)  # Example placeholder\n",
    "step_size_range = (step_sizes[0], step_sizes[-1])  # Define step size range\n",
    "max_dist=(t1-t0)\n",
    "\n",
    "env = PDEEnv(fun=HeatEquation(),max_iterations=10000, initial_step_size=step_sizes[0],\n",
    "              step_size_range=step_size_range, reward_fun=reward_fun, error_tol=tol,\n",
    "              initial_state=initial_state, t0=t0,max_dist=max_dist, nodes_per_integ=4,memory=memory)\n",
    "\n"
   ]
  },
  {
   "cell_type": "code",
   "execution_count": 10,
   "id": "c81c69ef",
   "metadata": {},
   "outputs": [],
   "source": [
    "# Block 3: Solver Setup\n",
    "uh = fem.Function(V)\n",
    "solver = PETSc.KSP().create(domain.comm)\n",
    "solver.setOperators(A)\n",
    "solver.setType(PETSc.KSP.Type.PREONLY)\n",
    "solver.getPC().setType(PETSc.PC.Type.LU)\n"
   ]
  },
  {
   "cell_type": "code",
   "execution_count": 11,
   "id": "87c973a9",
   "metadata": {},
   "outputs": [],
   "source": [
    "# Block 4: Choose Action Function\n",
    "def choose_action(actions, eps, dim_action):\n",
    "    favored = np.argmax(actions)\n",
    "    if np.random.sample() < 0.5 * eps:\n",
    "        return min(favored + 1, dim_action - 1)\n",
    "    elif np.random.sample() < eps:\n",
    "        return max(favored - 1, 0)\n",
    "    else:\n",
    "        return favored"
   ]
  },
  {
   "cell_type": "code",
   "execution_count": 12,
   "id": "afb8c760",
   "metadata": {},
   "outputs": [
    {
     "name": "stdout",
     "output_type": "stream",
     "text": [
      "t 0\n",
      "node [0. 0. 0. 0.]\n",
      "h 0.2\n",
      "fun <bound method HeatEquation.solve of <functions.HeatEquation object at 0x7ed2001bb450>>\n",
      "Episode: 0\n",
      "Shape of flattened_states before reshaping: (13,)\n",
      "Shape of flattened_states after reshaping: (1, 13)\n"
     ]
    },
    {
     "ename": "AssertionError",
     "evalue": "Mismatch in number of features between scaler and input data",
     "output_type": "error",
     "traceback": [
      "\u001b[0;31m---------------------------------------------------------------------------\u001b[0m",
      "\u001b[0;31mAssertionError\u001b[0m                            Traceback (most recent call last)",
      "Cell \u001b[0;32mIn[12], line 14\u001b[0m\n\u001b[1;32m     11\u001b[0m \u001b[38;5;28mprint\u001b[39m(\u001b[38;5;124mf\u001b[39m\u001b[38;5;124m'\u001b[39m\u001b[38;5;124mEpisode: \u001b[39m\u001b[38;5;132;01m{\u001b[39;00mepisode\u001b[38;5;132;01m}\u001b[39;00m\u001b[38;5;124m'\u001b[39m)\n\u001b[1;32m     13\u001b[0m \u001b[38;5;28;01mwhile\u001b[39;00m \u001b[38;5;129;01mnot\u001b[39;00m done:\n\u001b[0;32m---> 14\u001b[0m     actions \u001b[38;5;241m=\u001b[39m predictor\u001b[38;5;241m.\u001b[39mget_actions(state)\n\u001b[1;32m     15\u001b[0m     \u001b[38;5;28mprint\u001b[39m(\u001b[38;5;124m\"\u001b[39m\u001b[38;5;124mactions\u001b[39m\u001b[38;5;124m\"\u001b[39m,actions)\n\u001b[1;32m     16\u001b[0m     action \u001b[38;5;241m=\u001b[39m choose_action(actions, eps, dim_action)\n",
      "File \u001b[0;32m~/Desktop/repositories/quadrature-ML/adaptive/predictor.py:392\u001b[0m, in \u001b[0;36mPredictorQPDE.get_actions\u001b[0;34m(self, states)\u001b[0m\n\u001b[1;32m    390\u001b[0m flattened_states \u001b[38;5;241m=\u001b[39m flattened_states\u001b[38;5;241m.\u001b[39mreshape(\u001b[38;5;241m1\u001b[39m, \u001b[38;5;241m-\u001b[39m\u001b[38;5;241m1\u001b[39m)  \u001b[38;5;66;03m# Ensure it's 2D\u001b[39;00m\n\u001b[1;32m    391\u001b[0m \u001b[38;5;28mprint\u001b[39m(\u001b[38;5;124m\"\u001b[39m\u001b[38;5;124mShape of flattened_states after reshaping:\u001b[39m\u001b[38;5;124m\"\u001b[39m, flattened_states\u001b[38;5;241m.\u001b[39mshape)\n\u001b[0;32m--> 392\u001b[0m \u001b[38;5;28;01massert\u001b[39;00m flattened_states\u001b[38;5;241m.\u001b[39mshape[\u001b[38;5;241m1\u001b[39m] \u001b[38;5;241m==\u001b[39m \u001b[38;5;28mself\u001b[39m\u001b[38;5;241m.\u001b[39mscaler\u001b[38;5;241m.\u001b[39mmean_\u001b[38;5;241m.\u001b[39mshape[\u001b[38;5;241m0\u001b[39m], \\\n\u001b[1;32m    393\u001b[0m     \u001b[38;5;124m\"\u001b[39m\u001b[38;5;124mMismatch in number of features between scaler and input data\u001b[39m\u001b[38;5;124m\"\u001b[39m\n\u001b[1;32m    394\u001b[0m scaled_states \u001b[38;5;241m=\u001b[39m \u001b[38;5;28mself\u001b[39m\u001b[38;5;241m.\u001b[39mscaler\u001b[38;5;241m.\u001b[39mtransform(flattened_states)\n\u001b[1;32m    395\u001b[0m \u001b[38;5;28mprint\u001b[39m(\u001b[38;5;124m\"\u001b[39m\u001b[38;5;124mShape of scaled_states:\u001b[39m\u001b[38;5;124m\"\u001b[39m, scaled_states\u001b[38;5;241m.\u001b[39mshape)\n",
      "\u001b[0;31mAssertionError\u001b[0m: Mismatch in number of features between scaler and input data"
     ]
    }
   ],
   "source": [
    "# Block 4: Time-Stepping Loop with Backward Euler Integration\n",
    "import warnings\n",
    "warnings.filterwarnings('ignore')\n",
    "\n",
    "gamma = 0  # discount factor for future rewards\n",
    "\n",
    "for episode in range(5):\n",
    "    state = env.reset(integrator)\n",
    "    done = False\n",
    "    eps = 0.66\n",
    "    print(f'Episode: {episode}')\n",
    "\n",
    "    while not done:\n",
    "        actions = predictor.get_actions(state)\n",
    "        print(\"actions\",actions)\n",
    "        action = choose_action(actions, eps, dim_action)\n",
    "        print(\"action\",action)\n",
    "        step_size = predictor.action_to_stepsize(action)\n",
    "        print(\"step_size\", step_size)\n",
    "\n",
    "        # Update Dirichlet Boundary Condition\n",
    "        u_exact.t += step_size\n",
    "        print(\"u_exact.t\",u_exact.t)\n",
    "        u_D.interpolate(u_exact)\n",
    "\n",
    "        # Update RHS\n",
    "        with b.localForm() as loc_b:\n",
    "            loc_b.set(0)\n",
    "        assemble_vector(b, L)\n",
    "        apply_lifting(b, [a], [[bc]])\n",
    "        b.ghostUpdate(addv=PETSc.InsertMode.ADD_VALUES, mode=PETSc.ScatterMode.REVERSE)\n",
    "        set_bc(b, [bc])\n",
    "\n",
    "        # Solve Linear Problem\n",
    "        solver.solve(b, uh.vector)\n",
    "        uh.x.scatter_forward()\n",
    "\n",
    "        # Update State and Reward using simpson\n",
    "        next_state, reward, done, _ = env.iterate(step_size, integrator)\n",
    "        print(\"next state\", next_state)\n",
    "        print(\"done\", done)\n",
    "        action_next_state = predictor.get_actions(next_state)\n",
    "        print(\"action_next_state\",action_next_state)\n",
    "        print(\"reward\", reward)\n",
    "        print(\"gamma\", gamma)\n",
    "        print(\"anotherone\",np.max(action_next_state))\n",
    "        target = reward + gamma * np.max(action_next_state)\n",
    "        target_actions = actions.squeeze()\n",
    "        target_actions[action] = target\n",
    "        experience.append(state=state[0], target=target_actions)\n",
    "\n",
    "        if experience.is_full() or done:\n",
    "            states, targets = experience.get_samples()\n",
    "            loss_predictor = predictor.train_on_batch(states, targets)\n",
    "            experience.reset()\n",
    "\n",
    "        state = next_state.copy()\n",
    "        u_n.x.array[:] = uh.x.array\n"
   ]
  },
  {
   "cell_type": "code",
   "execution_count": 1,
   "id": "2219f925",
   "metadata": {},
   "outputs": [
    {
     "ename": "NameError",
     "evalue": "name 'fem' is not defined",
     "output_type": "error",
     "traceback": [
      "\u001b[0;31m---------------------------------------------------------------------------\u001b[0m",
      "\u001b[0;31mNameError\u001b[0m                                 Traceback (most recent call last)",
      "Cell \u001b[0;32mIn[1], line 2\u001b[0m\n\u001b[1;32m      1\u001b[0m \u001b[38;5;66;03m# Block 6: Error Computation\u001b[39;00m\n\u001b[0;32m----> 2\u001b[0m V_ex \u001b[38;5;241m=\u001b[39m fem\u001b[38;5;241m.\u001b[39mfunctionspace(domain, (\u001b[38;5;124m\"\u001b[39m\u001b[38;5;124mLagrange\u001b[39m\u001b[38;5;124m\"\u001b[39m, \u001b[38;5;241m2\u001b[39m))\n\u001b[1;32m      3\u001b[0m u_ex \u001b[38;5;241m=\u001b[39m fem\u001b[38;5;241m.\u001b[39mFunction(V_ex)\n\u001b[1;32m      4\u001b[0m u_ex\u001b[38;5;241m.\u001b[39minterpolate(u_exact)\n",
      "\u001b[0;31mNameError\u001b[0m: name 'fem' is not defined"
     ]
    }
   ],
   "source": [
    "# Block 6: Error Computation\n",
    "V_ex = fem.functionspace(domain, (\"Lagrange\", 2))\n",
    "u_ex = fem.Function(V_ex)\n",
    "u_ex.interpolate(u_exact)\n",
    "error_L2 = np.sqrt(domain.comm.allreduce(fem.assemble_scalar(fem.form((uh - u_ex)**2 * ufl.dx)), op=MPI.SUM))\n",
    "if domain.comm.rank == 0:\n",
    "    print(f\"L2-error: {error_L2:.2e}\")\n",
    "\n",
    "from dolfinx.fem import form, assemble_scalar\n",
    "from ufl import dot, grad, dx\n",
    "eh = uh - u_ex\n",
    "comm = uh.function_space.mesh.comm\n",
    "error_H10 = form(dot(grad(eh), grad(eh)) * dx)\n",
    "E_H10 = np.sqrt(comm.allreduce(assemble_scalar(error_H10), op=MPI.SUM))\n",
    "if comm.rank == 0:\n",
    "    print(f\"H01-error: {E_H10:.2e}\")\n"
   ]
  },
  {
   "cell_type": "code",
   "execution_count": 2,
   "id": "1b658fbc",
   "metadata": {},
   "outputs": [
    {
     "ename": "NameError",
     "evalue": "name 'V' is not defined",
     "output_type": "error",
     "traceback": [
      "\u001b[0;31m---------------------------------------------------------------------------\u001b[0m",
      "\u001b[0;31mNameError\u001b[0m                                 Traceback (most recent call last)",
      "Cell \u001b[0;32mIn[2], line 8\u001b[0m\n\u001b[1;32m      5\u001b[0m \u001b[38;5;28;01mimport\u001b[39;00m \u001b[38;5;21;01mnumpy\u001b[39;00m \u001b[38;5;28;01mas\u001b[39;00m \u001b[38;5;21;01mnp\u001b[39;00m\n\u001b[1;32m      7\u001b[0m \u001b[38;5;66;03m# Extract the solution values\u001b[39;00m\n\u001b[0;32m----> 8\u001b[0m x \u001b[38;5;241m=\u001b[39m V\u001b[38;5;241m.\u001b[39mtabulate_dof_coordinates()[:, \u001b[38;5;241m0\u001b[39m]\n\u001b[1;32m      9\u001b[0m y \u001b[38;5;241m=\u001b[39m V\u001b[38;5;241m.\u001b[39mtabulate_dof_coordinates()[:, \u001b[38;5;241m1\u001b[39m]\n\u001b[1;32m     10\u001b[0m z \u001b[38;5;241m=\u001b[39m uh\u001b[38;5;241m.\u001b[39mx\u001b[38;5;241m.\u001b[39marray\n",
      "\u001b[0;31mNameError\u001b[0m: name 'V' is not defined"
     ]
    }
   ],
   "source": [
    "# Plot 1: Solution at Final Time Step\n",
    "import matplotlib.pyplot as plt\n",
    "from mpl_toolkits.mplot3d import Axes3D\n",
    "from matplotlib import cm\n",
    "import numpy as np\n",
    "\n",
    "# Extract the solution values\n",
    "x = V.tabulate_dof_coordinates()[:, 0]\n",
    "y = V.tabulate_dof_coordinates()[:, 1]\n",
    "z = uh.x.array\n",
    "\n",
    "# Create a 3D plot of the solution\n",
    "fig = plt.figure()\n",
    "ax = fig.add_subplot(111, projection='3d')\n",
    "ax.plot_trisurf(x, y, z, cmap=cm.viridis)\n",
    "\n",
    "ax.set_title(\"Numerical Solution at Final Time Step\")\n",
    "ax.set_xlabel(\"x\")\n",
    "ax.set_ylabel(\"y\")\n",
    "ax.set_zlabel(\"u(x, y)\")\n",
    "\n",
    "plt.show()"
   ]
  },
  {
   "cell_type": "code",
   "execution_count": 19,
   "id": "baab2816",
   "metadata": {},
   "outputs": [],
   "source": [
    "# Plot 2: Convergence Plot (L2 and H1 Errors)\n",
    "time_steps = np.linspace(t0, t1, len(step_sizes))  # Time array based on step sizes\n",
    "errors_L2 = [error_L2]  # Assuming error_L2 is computed at each step\n",
    "errors_H1 = [E_H10]  # Assuming E_H10 is computed at each step\n",
    "\n",
    "plt.figure()\n",
    "plt.plot(time_steps, errors_L2, label='L2 Error')\n",
    "plt.plot(time_steps, errors_H1, label='H1 Error')\n",
    "\n",
    "plt.title(\"Convergence of Errors Over Time\")\n",
    "plt.xlabel(\"Time\")\n",
    "plt.ylabel(\"Error\")\n",
    "plt.legend()\n",
    "plt.grid(True)\n",
    "plt.show()"
   ]
  },
  {
   "cell_type": "code",
   "execution_count": 20,
   "id": "bebd731a",
   "metadata": {},
   "outputs": [],
   "source": [
    "# Plot 3: Time-Stepping Sequence\n",
    "plt.figure()\n",
    "plt.plot(time_steps[:-1], step_sizes)\n",
    "\n",
    "plt.title(\"Time-Stepping Sequence\")\n",
    "plt.xlabel(\"Time\")\n",
    "plt.ylabel(\"Step Size\")\n",
    "plt.grid(True)\n",
    "plt.show()"
   ]
  },
  {
   "cell_type": "code",
   "execution_count": 21,
   "id": "43fcd043",
   "metadata": {},
   "outputs": [],
   "source": [
    "# Plot 4: Reward vs. Time Step\n",
    "rewards = [...]  # Collect the reward values from the simulation loop\n",
    "\n",
    "plt.figure()\n",
    "plt.plot(time_steps[:-1], rewards)\n",
    "\n",
    "plt.title(\"Reward vs. Time Step\")\n",
    "plt.xlabel(\"Time\")\n",
    "plt.ylabel(\"Reward\")\n",
    "plt.grid(True)\n",
    "plt.show()"
   ]
  },
  {
   "cell_type": "code",
   "execution_count": 22,
   "id": "e9a4c6ca",
   "metadata": {},
   "outputs": [],
   "source": [
    "# Plot 5: Action Values vs. Time Step\n",
    "action_values = [...]  # Collect the action values from the simulation loop\n",
    "\n",
    "plt.figure()\n",
    "plt.plot(time_steps[:-1], action_values)\n",
    "\n",
    "plt.title(\"Action Values vs. Time Step\")\n",
    "plt.xlabel(\"Time\")\n",
    "plt.ylabel(\"Action Value\")\n",
    "plt.grid(True)\n",
    "plt.show()"
   ]
  },
  {
   "cell_type": "code",
   "execution_count": 23,
   "id": "dad0d9b8",
   "metadata": {},
   "outputs": [],
   "source": [
    "# Plot 6: Loss During Training\n",
    "losses = [...]  # Collect the loss values from training\n",
    "\n",
    "plt.figure()\n",
    "plt.plot(np.arange(len(losses)), losses)\n",
    "\n",
    "plt.title(\"Loss During Training\")\n",
    "plt.xlabel(\"Training Iteration\")\n",
    "plt.ylabel(\"Loss\")\n",
    "plt.grid(True)\n",
    "plt.show()"
   ]
  },
  {
   "cell_type": "code",
   "execution_count": 24,
   "id": "cce7fc53",
   "metadata": {},
   "outputs": [],
   "source": [
    "# Plot 7: Exact vs. Numerical Solution\n",
    "z_exact = u_exact(np.vstack((x, y)))  # Compute exact solution on the mesh points\n",
    "\n",
    "plt.figure()\n",
    "plt.plot(x, z_exact, label='Exact Solution')\n",
    "plt.plot(x, uh.x.array, label='Numerical Solution', linestyle='dashed')\n",
    "\n",
    "plt.title(\"Exact vs. Numerical Solution\")\n",
    "plt.xlabel(\"x\")\n",
    "plt.ylabel(\"u(x)\")\n",
    "plt.legend()\n",
    "plt.grid(True)\n",
    "plt.show()\n"
   ]
  }
 ],
 "metadata": {
  "kernelspec": {
   "display_name": "advfea",
   "language": "python",
   "name": "advfea"
  },
  "language_info": {
   "codemirror_mode": {
    "name": "ipython",
    "version": 3
   },
   "file_extension": ".py",
   "mimetype": "text/x-python",
   "name": "python",
   "nbconvert_exporter": "python",
   "pygments_lexer": "ipython3",
   "version": "3.11.5"
  }
 },
 "nbformat": 4,
 "nbformat_minor": 5
}
